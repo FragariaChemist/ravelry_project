{
 "cells": [
  {
   "cell_type": "markdown",
   "id": "3c815afc-46f2-47c5-aeb4-f4d953b0f8e8",
   "metadata": {},
   "source": [
    "# 01 - Ravelry API - Data Collection Script\n",
    "___"
   ]
  },
  {
   "cell_type": "markdown",
   "id": "794035a6-1528-448a-a6d1-da1d21cba452",
   "metadata": {},
   "source": [
    "References that helped me create this code can be found at:\n",
    "* [How to access an API for first-time API users](https://medium.com/data-science-at-microsoft/how-to-access-an-api-for-first-time-api-users-879002f5f58d) by Riesling Walker\n",
    "* [Ravelry API Documentation](https://www.ravelry.com/api)\n",
    "* The helpful community in the [Ravelry API](https://www.ravelry.com/groups/ravelry-api) group"
   ]
  },
  {
   "cell_type": "code",
   "execution_count": 3,
   "id": "4505ed19-b5d8-4053-9547-d9998969022b",
   "metadata": {},
   "outputs": [
    {
     "data": {
      "text/plain": [
       "True"
      ]
     },
     "execution_count": 3,
     "metadata": {},
     "output_type": "execute_result"
    }
   ],
   "source": [
    "#Imports\n",
    "import pandas as pd\n",
    "import requests\n",
    "from requests.auth import HTTPBasicAuth\n",
    "import json\n",
    "\n",
    "\n",
    "import os\n",
    "from dotenv import load_dotenv\n",
    "load_dotenv()"
   ]
  },
  {
   "cell_type": "markdown",
   "id": "02612125-d14d-4fce-96e8-8ffb0247318d",
   "metadata": {},
   "source": [
    "## Contents\n",
    "---\n",
    "* [API Script](#API-Script)\n",
    "* [Photo Collection](#Photo-Collection)"
   ]
  },
  {
   "cell_type": "markdown",
   "id": "653f6117-3f73-49d3-a500-a67fac0f19f3",
   "metadata": {},
   "source": [
    "## API Script \n",
    "___"
   ]
  },
  {
   "cell_type": "code",
   "execution_count": 4,
   "id": "a82a8b3a-635a-4e76-918a-9ba8f2f3e0b3",
   "metadata": {},
   "outputs": [],
   "source": [
    "username = os.getenv('ravname')\n",
    "password = os.getenv('password')"
   ]
  },
  {
   "cell_type": "markdown",
   "id": "fe70c37f-0aeb-4cc1-b6b9-ff3ecb4b5c00",
   "metadata": {},
   "source": [
    "|Function|Argument|Purpose|\n",
    "|---|---|---|\n",
    "|**unique_pattern_collection**|*str* - pc <br> *int* - total|Function calls the Ravelry API along with specific parameters such as pattern language and craft type. Collects a JSON file of requested information and transforms it into a dataframe. The dataframe contains the pattern ID, pattern name, and its 'medium photo' URL.|\n",
    "|**detail_collector**|*dataframe* - dataframe|Fuction accepts a 'dataframe' argument that is intended to be the dataframe created with the unique_pattern_collection function. This function takes the pattern ID column from the dataframe and calls the Ravelry API. Using the pattern ID, it collects specific details about the pattern such as priice and author. The details, along with the pattern id are collected as columns in a dataframe and returned.\n",
    "|**data_collection_pipeline**|*str* - garment <br> *int* - total|Combines the previously mentioned functions to create a dataframe with pattern details and save it to a csv file."
   ]
  },
  {
   "cell_type": "code",
   "execution_count": 17,
   "id": "b67ca691-e167-46d5-ab7e-2960b4dee47d",
   "metadata": {},
   "outputs": [],
   "source": [
    "def unique_pattern_collection(pc, total):\n",
    "\n",
    "    '''\n",
    "    Function is designed to take in a string argument of 'pc' which is a Ravelry pattern category and integer 'total' which is how many patterns to be collected.  The Ravelry API is\n",
    "    called with specified category along with other pre-determined parameters and generates a json file.  The parameters are set to look for knitting patterns in the English \n",
    "    language that are not discontinued and originating from the United States.  Function is set up to have 150 patterns per page and starts on page one and iterate through \n",
    "    pages as needed.  Function will check for duplicates and record 2000 patters in the 'posts' list.  From the posts list the function will pull the pattern ID, name, and 'medium photo' URL,\n",
    "    create a dataframe with these properties, and return the dataframe.\n",
    "    '''\n",
    "    #Parameters used to filter what kind of patterns I want, keep track of posts collected, and unique IDs so duplicates are avoided.\n",
    "    language = 'en'\n",
    "    craft = 'knitting'\n",
    "    pc = pc\n",
    "    availability = '-discontinued'\n",
    "    photo = 'yes'\n",
    "    country = 'united-states'\n",
    "    sort = 'popularity'\n",
    "    page = 1\n",
    "    page_size = 150\n",
    "    posts = []\n",
    "    unique_ids = set()\n",
    "    total_unique_patterns = total\n",
    "\n",
    "    # Call the API with relevant parameters, username, and password - It helped to look at how the URL\n",
    "    #structure looks on a Ravelry pattern to piece this together.\n",
    "    while len(unique_ids) < total_unique_patterns:\n",
    "        url = 'https://api.ravelry.com/patterns/search.json?page_size={}&craft={}&pc={}&availability={}&language={}&photo={}&country={}&sort={}&page={}'.format(page_size, craft, pc, availability, language, photo,country,sort, page)      \n",
    "        response = requests.get(url, auth=requests.auth.HTTPBasicAuth(username, password))\n",
    "\n",
    "        # If the call is good, transform the response to a json and get everything in the patterns section where relevant data is located\n",
    "        if response.status_code == 200:\n",
    "            rav_data = response.json()\n",
    "            patterns = rav_data.get('patterns')\n",
    "\n",
    "            # Check for unique pattern IDs.  If it's not in the unique ID list yet, that means it hasn't been collected and should be added to the pattern list.\n",
    "            for pattern in patterns:\n",
    "                if pattern['id'] not in unique_ids:\n",
    "                    unique_ids.add(pattern['id'])\n",
    "                    posts.append(pattern)\n",
    "                    if len(unique_ids) == total_unique_patterns:\n",
    "                        break\n",
    "                        \n",
    "        # Print status code if API breaks\n",
    "        else:\n",
    "            print(f'API request failed with status code {response.status_code}')\n",
    "            break\n",
    "            \n",
    "        # Turn the page to continue the loop\n",
    "        page += 1\n",
    "\n",
    "    \n",
    "    # Collect all relevant data from the API and put them into variables\n",
    "    # Added \n",
    "    id = [post['id'] for post in posts]\n",
    "    name = [post['name'] for post in posts]\n",
    "    photos = [post['first_photo']['medium_url'] if post.get('first_photo') and post['first_photo'].get('medium_url') else 'No photo' for post in posts]\n",
    "    \n",
    "    # Make a dataframe from above variables\n",
    "    df = pd.DataFrame({'id': id, 'name': name, 'photo':photos})\n",
    "        \n",
    "    # Print how many patterns were collected and return the dataframe\n",
    "    print(f\"Total unique pattern IDs collected: {len(unique_ids)}\")\n",
    "\n",
    "    return df\n"
   ]
  },
  {
   "cell_type": "code",
   "execution_count": 20,
   "id": "8344ebd5-9abb-4c2d-a928-241fa0760ebb",
   "metadata": {},
   "outputs": [],
   "source": [
    "def detail_collector(dataframe):\n",
    "\n",
    "    '''\n",
    "    Fuction accepts a 'dataframe' argument that is intended to be the dataframe created with the unique_pattern_collection function.  This function takes that dataframe and breaks\n",
    "    out all of the values in the ID column into a list.  The Ravelry pattern API is called.\n",
    "    '''\n",
    "    # Break out the garment dataframe to just get a list of IDs to iterate through API.  Also need to keep a list of collected raw data.\n",
    "    pattern_ids = dataframe['id'].tolist()\n",
    "    raw_details = []\n",
    "    \n",
    "    for id in pattern_ids:\n",
    "        url = f'https://api.ravelry.com//patterns.json?ids={id}'\n",
    "        response = requests.get(url, auth=requests.auth.HTTPBasicAuth(username, password))\n",
    "    \n",
    "        pattern_data = response.json()\n",
    "        pat_details = pattern_data.get('patterns', {}).get(str(id)) # Make sure to get the string of the ID as that is how it's written in API call\n",
    "        # Otherwise I get None for entries\n",
    "    \n",
    "        raw_details.append(pat_details)\n",
    "    \n",
    "    #Stuff to collect\n",
    "    id = [raw_detail['id'] for raw_detail in raw_details]\n",
    "    name = [raw_detail['name'] for raw_detail in raw_details]\n",
    "    difficulty_avg = [round(raw_detail['difficulty_average'],2) for raw_detail in raw_details]\n",
    "    gauge = [raw_detail['gauge'] for raw_detail in raw_details]\n",
    "    gauge_divisor = [raw_detail['gauge_divisor'] for raw_detail in raw_details]\n",
    "    gauge_pattern = [raw_detail['gauge_pattern'] for raw_detail in raw_details]\n",
    "    max_yardage = [raw_detail['yardage_max'] for raw_detail in raw_details]\n",
    "    price = [raw_detail['price'] for raw_detail in raw_details]\n",
    "    rating_avg = [round(raw_detail['rating_average'],2) for raw_detail in raw_details]\n",
    "    projects_count = [raw_detail['projects_count'] for raw_detail in raw_details]\n",
    "    queued_projects_count = [raw_detail['queued_projects_count'] for raw_detail in raw_details]\n",
    "    sizes_available = [raw_detail['sizes_available'] for raw_detail in raw_details]\n",
    "    yarn_weight = [raw_detail['yarn_weight']['name'] if raw_detail.get('yarn_weight') and raw_detail['yarn_weight'].get('name') else 'Unavailable' for raw_detail in raw_details]\n",
    "    author = [raw_detail['pattern_author']['name'] for raw_detail in raw_details]\n",
    "    projects_count = [raw_detail['projects_count'] for raw_detail in raw_details]\n",
    "    notes = [raw_detail['notes'] for raw_detail in raw_details]\n",
    "\n",
    "    \n",
    "    final_df = pd.DataFrame({'id': id,\n",
    "                            'name': name,\n",
    "                            'author': author,\n",
    "                            'difficulty_avg': difficulty_avg,\n",
    "                            'gauge': gauge,\n",
    "                            'gauge_divisor': gauge_divisor,\n",
    "                            'gauge_pattern': gauge_pattern,\n",
    "                            'max_yardage': max_yardage,\n",
    "                            'notes': notes,\n",
    "                            'price': price,\n",
    "                            'projects_count': projects_count,\n",
    "                            'queued_projects_count': queued_projects_count,\n",
    "                            'rating_avg': rating_avg,\n",
    "                            'sizes_available': sizes_available,\n",
    "                            'yarn_weight': yarn_weight,\n",
    "                        })\n",
    "    \n",
    "    return final_df\n"
   ]
  },
  {
   "cell_type": "code",
   "execution_count": 7,
   "id": "d637082a-a017-4a22-b24b-b377467f0736",
   "metadata": {},
   "outputs": [],
   "source": [
    "def data_collection_pipeline(garment, total):\n",
    "    \n",
    "    '''\n",
    "    garment (str) - type of garment to be searched on Ravelry API\n",
    "    total (int) - Number of patterns to be collected\n",
    "    Function will call the Ravelry API twice to collect the following details about each pattern:\n",
    "    id\n",
    "    name\n",
    "    author\n",
    "    difficulty_avg\n",
    "    gauge\n",
    "    gauge_divisor\n",
    "    gauge_pattern\n",
    "    max_yardage\n",
    "    notes\n",
    "    price\n",
    "    projects_count\n",
    "    queued_projects_count\n",
    "    rating_avg\n",
    "    sizes_available\n",
    "    yarn_weight\n",
    "    Function will return the dataframe as well as save the dataframe as {garment}_details.csv\n",
    "    '''\n",
    "    \n",
    "    df = unique_pattern_collection(garment, total)\n",
    "    final_df = detail_collector(df)\n",
    "    final_df.to_csv(f'../data/{garment}_details.csv', index = False)\n",
    "    return final_df\n",
    "    "
   ]
  },
  {
   "cell_type": "code",
   "execution_count": null,
   "id": "8eb51bb8-153a-4e23-8c65-436d316e764a",
   "metadata": {
    "scrolled": true
   },
   "outputs": [],
   "source": [
    "scarf_df = data_collection_pipeline('scarf', 10)"
   ]
  },
  {
   "cell_type": "markdown",
   "id": "be0cbf1a-e1f8-40d4-a247-a808adead933",
   "metadata": {},
   "source": [
    "## Photo Collection"
   ]
  },
  {
   "cell_type": "markdown",
   "id": "d6234705-f9cd-463e-8d3a-5a43cfc53511",
   "metadata": {},
   "source": [
    "Use the unique_pattern_collection function to collect 100 photos of different types of garments"
   ]
  },
  {
   "cell_type": "code",
   "execution_count": 32,
   "id": "f615ca5c-dcf6-4a1d-b9c0-651244540af3",
   "metadata": {},
   "outputs": [
    {
     "name": "stdout",
     "output_type": "stream",
     "text": [
      "Total unique pattern IDs collected: 100\n"
     ]
    }
   ],
   "source": [
    "socks_photos_df = unique_pattern_collection('socks', 100)"
   ]
  },
  {
   "cell_type": "code",
   "execution_count": 33,
   "id": "e08fa5c4-64e0-462d-8292-bdbc342765b0",
   "metadata": {},
   "outputs": [
    {
     "data": {
      "text/html": [
       "<div>\n",
       "<style scoped>\n",
       "    .dataframe tbody tr th:only-of-type {\n",
       "        vertical-align: middle;\n",
       "    }\n",
       "\n",
       "    .dataframe tbody tr th {\n",
       "        vertical-align: top;\n",
       "    }\n",
       "\n",
       "    .dataframe thead th {\n",
       "        text-align: right;\n",
       "    }\n",
       "</style>\n",
       "<table border=\"1\" class=\"dataframe\">\n",
       "  <thead>\n",
       "    <tr style=\"text-align: right;\">\n",
       "      <th></th>\n",
       "      <th>id</th>\n",
       "      <th>name</th>\n",
       "      <th>photo</th>\n",
       "    </tr>\n",
       "  </thead>\n",
       "  <tbody>\n",
       "    <tr>\n",
       "      <th>0</th>\n",
       "      <td>1039033</td>\n",
       "      <td>Vanilla Socks on Magic Loop</td>\n",
       "      <td>https://images4-f.ravelrycache.com/uploads/the...</td>\n",
       "    </tr>\n",
       "    <tr>\n",
       "      <th>1</th>\n",
       "      <td>1039035</td>\n",
       "      <td>Vanilla Socks on 9\" Circulars</td>\n",
       "      <td>https://images4-f.ravelrycache.com/uploads/the...</td>\n",
       "    </tr>\n",
       "    <tr>\n",
       "      <th>2</th>\n",
       "      <td>130787</td>\n",
       "      <td>Hermione's Everyday Socks</td>\n",
       "      <td>https://images4-g.ravelrycache.com/flickr/3/7/...</td>\n",
       "    </tr>\n",
       "    <tr>\n",
       "      <th>3</th>\n",
       "      <td>1159708</td>\n",
       "      <td>DK Weight Vanilla Socks</td>\n",
       "      <td>https://images4-f.ravelrycache.com/uploads/the...</td>\n",
       "    </tr>\n",
       "    <tr>\n",
       "      <th>4</th>\n",
       "      <td>1091238</td>\n",
       "      <td>DRK Everyday Socks</td>\n",
       "      <td>https://images4-f.ravelrycache.com/uploads/dre...</td>\n",
       "    </tr>\n",
       "  </tbody>\n",
       "</table>\n",
       "</div>"
      ],
      "text/plain": [
       "        id                           name  \\\n",
       "0  1039033    Vanilla Socks on Magic Loop   \n",
       "1  1039035  Vanilla Socks on 9\" Circulars   \n",
       "2   130787      Hermione's Everyday Socks   \n",
       "3  1159708        DK Weight Vanilla Socks   \n",
       "4  1091238             DRK Everyday Socks   \n",
       "\n",
       "                                               photo  \n",
       "0  https://images4-f.ravelrycache.com/uploads/the...  \n",
       "1  https://images4-f.ravelrycache.com/uploads/the...  \n",
       "2  https://images4-g.ravelrycache.com/flickr/3/7/...  \n",
       "3  https://images4-f.ravelrycache.com/uploads/the...  \n",
       "4  https://images4-f.ravelrycache.com/uploads/dre...  "
      ]
     },
     "execution_count": 33,
     "metadata": {},
     "output_type": "execute_result"
    }
   ],
   "source": [
    "socks_photos_df.head()"
   ]
  },
  {
   "cell_type": "code",
   "execution_count": 34,
   "id": "1f52a104-6dc2-4a4f-8c88-afd8f9f7f855",
   "metadata": {},
   "outputs": [],
   "source": [
    "socks_photos_df.to_csv('../data/socks_photos.csv', index = False)"
   ]
  },
  {
   "cell_type": "code",
   "execution_count": null,
   "id": "2300029e-8ce8-403b-8603-c25792f1ad7f",
   "metadata": {},
   "outputs": [],
   "source": []
  }
 ],
 "metadata": {
  "kernelspec": {
   "display_name": "Python 3 (ipykernel)",
   "language": "python",
   "name": "python3"
  },
  "language_info": {
   "codemirror_mode": {
    "name": "ipython",
    "version": 3
   },
   "file_extension": ".py",
   "mimetype": "text/x-python",
   "name": "python",
   "nbconvert_exporter": "python",
   "pygments_lexer": "ipython3",
   "version": "3.11.7"
  }
 },
 "nbformat": 4,
 "nbformat_minor": 5
}
