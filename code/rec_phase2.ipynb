{
 "cells": [
  {
   "cell_type": "markdown",
   "id": "9e5830fd-c08a-4245-b118-297a8e072e95",
   "metadata": {},
   "source": [
    "# Ravelry API - Content Based Recommendation System\n",
    "___"
   ]
  },
  {
   "cell_type": "markdown",
   "id": "299fa20d-ed23-41f2-ae3a-10a5e60525c8",
   "metadata": {},
   "source": [
    "This notebook reads in the cleaned Ravelry dataframe and transforms it into a consine distance matrix.  This allows it to be used as a content based recommender program using its features.  \n",
    "\n",
    "The notebook includes code to search for patterns in the database and to submit a pattern name for five recommended patterns that are considered similar.  Another function returns the five recommended patterns along with Ravelry URL links to the pattern's information."
   ]
  },
  {
   "cell_type": "markdown",
   "id": "3bd78aa7-10a2-40a2-8d12-88859e307035",
   "metadata": {},
   "source": [
    "### Contents:\n",
    "- [Import Data & Prepare Features](#Import-Data-&-Prepare-Features)\n",
    "- [Calculate Cosine Distances and Build Recommender Dataframe](#Calculate-Cosine-Distances-and-Build-Recommender-Dataframe)\n",
    "- [User Interface and Recommender Function](#User-Interface-and-Recommender-Function)"
   ]
  },
  {
   "cell_type": "markdown",
   "id": "c373d5b7-089c-455f-9f8c-f95fd5d6b801",
   "metadata": {},
   "source": [
    "|Function|Argument|Function|\n",
    "|---|---|---|\n",
    "|**display_recs**|*str* - user input|If user_input pattern is in rav_rec dataframe, it will return the five most similar patterns as well as URL links to the pattern's Ravelry page.|"
   ]
  },
  {
   "cell_type": "code",
   "execution_count": 30,
   "id": "580a2c52-7cad-4dfb-948f-634653866b20",
   "metadata": {},
   "outputs": [],
   "source": [
    "import pandas as pd\n",
    "import numpy as np\n",
    "\n",
    "from sklearn.compose import ColumnTransformer\n",
    "from sklearn.preprocessing import OneHotEncoder, StandardScaler\n",
    "from sklearn.metrics.pairwise import pairwise_distances\n",
    "from sklearn.feature_extraction.text import TfidfVectorizer\n",
    "\n",
    "from scipy import sparse\n",
    "\n",
    "import spacy"
   ]
  },
  {
   "cell_type": "markdown",
   "id": "2e526a60-6fba-476b-a8b7-f5940c763322",
   "metadata": {},
   "source": [
    "## Import Data & Prepare Features\n",
    "___"
   ]
  },
  {
   "cell_type": "code",
   "execution_count": 31,
   "id": "2406a338-0196-4864-86d7-591d55651698",
   "metadata": {},
   "outputs": [],
   "source": [
    "rav_clean_df = pd.read_csv('../data/rav_clean.csv')\n",
    "rav_clean_df.drop(columns = ['id', 'gauge', 'gauge_divisor'], inplace = True)"
   ]
  },
  {
   "cell_type": "code",
   "execution_count": 32,
   "id": "aab823bb-45d4-451e-95a2-83f7f33b7787",
   "metadata": {},
   "outputs": [],
   "source": [
    "#Renaming columns to make NLP encoding easier - otherwise need to set verbose_feature_names_out in the \n",
    "# column transformer to True\n",
    "rav_clean_df.rename(columns = {'name':'pattern_name', 'price':'pattern_price'}, inplace = True)"
   ]
  },
  {
   "cell_type": "code",
   "execution_count": 33,
   "id": "396d4e5a-9736-420f-bb2a-84dc66ac51b3",
   "metadata": {},
   "outputs": [
    {
     "data": {
      "text/html": [
       "<div>\n",
       "<style scoped>\n",
       "    .dataframe tbody tr th:only-of-type {\n",
       "        vertical-align: middle;\n",
       "    }\n",
       "\n",
       "    .dataframe tbody tr th {\n",
       "        vertical-align: top;\n",
       "    }\n",
       "\n",
       "    .dataframe thead th {\n",
       "        text-align: right;\n",
       "    }\n",
       "</style>\n",
       "<table border=\"1\" class=\"dataframe\">\n",
       "  <thead>\n",
       "    <tr style=\"text-align: right;\">\n",
       "      <th></th>\n",
       "      <th>pattern_name</th>\n",
       "      <th>author</th>\n",
       "      <th>difficulty_avg</th>\n",
       "      <th>max_yardage</th>\n",
       "      <th>notes</th>\n",
       "      <th>pattern_price</th>\n",
       "      <th>projects_count</th>\n",
       "      <th>queued_projects_count</th>\n",
       "      <th>rating_avg</th>\n",
       "      <th>yarn_weight</th>\n",
       "      <th>type</th>\n",
       "      <th>gauge_per_inch</th>\n",
       "    </tr>\n",
       "  </thead>\n",
       "  <tbody>\n",
       "    <tr>\n",
       "      <th>0</th>\n",
       "      <td>Musselburgh</td>\n",
       "      <td>Ysolda Teague</td>\n",
       "      <td>2.46</td>\n",
       "      <td>610.0</td>\n",
       "      <td>&gt;Our favourite swatchless hat pattern\\r\\n&gt; jus...</td>\n",
       "      <td>6.0</td>\n",
       "      <td>23656</td>\n",
       "      <td>7700</td>\n",
       "      <td>4.89</td>\n",
       "      <td>Fingering</td>\n",
       "      <td>hat</td>\n",
       "      <td>6.0</td>\n",
       "    </tr>\n",
       "    <tr>\n",
       "      <th>1</th>\n",
       "      <td>Classic Ribbed Hat</td>\n",
       "      <td>Purl Soho</td>\n",
       "      <td>1.92</td>\n",
       "      <td>305.0</td>\n",
       "      <td>MATERIALS\\r\\nPurl Soho’s [Cashmere Merino Bloo...</td>\n",
       "      <td>0.0</td>\n",
       "      <td>10353</td>\n",
       "      <td>5382</td>\n",
       "      <td>4.83</td>\n",
       "      <td>DK</td>\n",
       "      <td>hat</td>\n",
       "      <td>8.0</td>\n",
       "    </tr>\n",
       "    <tr>\n",
       "      <th>2</th>\n",
       "      <td>Alpine Bloom Hat</td>\n",
       "      <td>Caitlin Hunter</td>\n",
       "      <td>3.37</td>\n",
       "      <td>230.0</td>\n",
       "      <td>The Alpine Bloom hat is designed as a companio...</td>\n",
       "      <td>5.0</td>\n",
       "      <td>1520</td>\n",
       "      <td>2364</td>\n",
       "      <td>4.84</td>\n",
       "      <td>Sport</td>\n",
       "      <td>hat</td>\n",
       "      <td>6.0</td>\n",
       "    </tr>\n",
       "    <tr>\n",
       "      <th>3</th>\n",
       "      <td>Classic Cuffed Hat</td>\n",
       "      <td>Purl Soho</td>\n",
       "      <td>1.87</td>\n",
       "      <td>328.0</td>\n",
       "      <td>MATERIALS\\r\\n\\r\\n- Hat with Pom Pom: 1 (2, 2) ...</td>\n",
       "      <td>0.0</td>\n",
       "      <td>9097</td>\n",
       "      <td>5043</td>\n",
       "      <td>4.70</td>\n",
       "      <td>Worsted</td>\n",
       "      <td>hat</td>\n",
       "      <td>5.0</td>\n",
       "    </tr>\n",
       "    <tr>\n",
       "      <th>4</th>\n",
       "      <td>February Hat</td>\n",
       "      <td>Kate Gagnon Osborn</td>\n",
       "      <td>2.62</td>\n",
       "      <td>213.0</td>\n",
       "      <td>When thinking about what I wanted to do for my...</td>\n",
       "      <td>0.0</td>\n",
       "      <td>3888</td>\n",
       "      <td>3532</td>\n",
       "      <td>4.75</td>\n",
       "      <td>Worsted</td>\n",
       "      <td>hat</td>\n",
       "      <td>4.5</td>\n",
       "    </tr>\n",
       "  </tbody>\n",
       "</table>\n",
       "</div>"
      ],
      "text/plain": [
       "         pattern_name              author  difficulty_avg  max_yardage  \\\n",
       "0         Musselburgh       Ysolda Teague            2.46        610.0   \n",
       "1  Classic Ribbed Hat           Purl Soho            1.92        305.0   \n",
       "2    Alpine Bloom Hat      Caitlin Hunter            3.37        230.0   \n",
       "3  Classic Cuffed Hat           Purl Soho            1.87        328.0   \n",
       "4        February Hat  Kate Gagnon Osborn            2.62        213.0   \n",
       "\n",
       "                                               notes  pattern_price  \\\n",
       "0  >Our favourite swatchless hat pattern\\r\\n> jus...            6.0   \n",
       "1  MATERIALS\\r\\nPurl Soho’s [Cashmere Merino Bloo...            0.0   \n",
       "2  The Alpine Bloom hat is designed as a companio...            5.0   \n",
       "3  MATERIALS\\r\\n\\r\\n- Hat with Pom Pom: 1 (2, 2) ...            0.0   \n",
       "4  When thinking about what I wanted to do for my...            0.0   \n",
       "\n",
       "   projects_count  queued_projects_count  rating_avg yarn_weight type  \\\n",
       "0           23656                   7700        4.89   Fingering  hat   \n",
       "1           10353                   5382        4.83          DK  hat   \n",
       "2            1520                   2364        4.84       Sport  hat   \n",
       "3            9097                   5043        4.70     Worsted  hat   \n",
       "4            3888                   3532        4.75     Worsted  hat   \n",
       "\n",
       "   gauge_per_inch  \n",
       "0             6.0  \n",
       "1             8.0  \n",
       "2             6.0  \n",
       "3             5.0  \n",
       "4             4.5  "
      ]
     },
     "execution_count": 33,
     "metadata": {},
     "output_type": "execute_result"
    }
   ],
   "source": [
    "rav_clean_df.head()"
   ]
  },
  {
   "cell_type": "code",
   "execution_count": 34,
   "id": "833b1c24-ac5e-4532-b0ec-a64ba9f44f8a",
   "metadata": {},
   "outputs": [
    {
     "name": "stdout",
     "output_type": "stream",
     "text": [
      "<class 'pandas.core.frame.DataFrame'>\n",
      "RangeIndex: 6000 entries, 0 to 5999\n",
      "Data columns (total 12 columns):\n",
      " #   Column                 Non-Null Count  Dtype  \n",
      "---  ------                 --------------  -----  \n",
      " 0   pattern_name           6000 non-null   object \n",
      " 1   author                 6000 non-null   object \n",
      " 2   difficulty_avg         6000 non-null   float64\n",
      " 3   max_yardage            6000 non-null   float64\n",
      " 4   notes                  6000 non-null   object \n",
      " 5   pattern_price          6000 non-null   float64\n",
      " 6   projects_count         6000 non-null   int64  \n",
      " 7   queued_projects_count  6000 non-null   int64  \n",
      " 8   rating_avg             6000 non-null   float64\n",
      " 9   yarn_weight            6000 non-null   object \n",
      " 10  type                   6000 non-null   object \n",
      " 11  gauge_per_inch         6000 non-null   float64\n",
      "dtypes: float64(5), int64(2), object(5)\n",
      "memory usage: 562.6+ KB\n"
     ]
    }
   ],
   "source": [
    "rav_clean_df.info()"
   ]
  },
  {
   "cell_type": "markdown",
   "id": "07dd2e45-950d-4178-8b18-b1e56be2f871",
   "metadata": {},
   "source": [
    "**Features to One Hot Encode**\n",
    "* author\n",
    "* yarn_weight\n",
    "* type\n",
    "\n",
    "**SpaCy Natural Language Processing**\n",
    "* notes\n",
    "\n",
    "**Features to Scale**\n",
    "* difficulty_avg\n",
    "* gauge\n",
    "* gauge_divisor\n",
    "* max_yardage\n",
    "* pattern_price\n",
    "* projects_count\n",
    "* queued_projects_count\n",
    "* rating_avg"
   ]
  },
  {
   "cell_type": "code",
   "execution_count": 5,
   "id": "0d67be03-0363-46fd-9db3-bfc987a8ffb3",
   "metadata": {},
   "outputs": [],
   "source": [
    "# Load the medium size SpaCy pipeline\n",
    "nlp = spacy.load('en_core_web_md')"
   ]
  },
  {
   "cell_type": "code",
   "execution_count": 6,
   "id": "c1931cd2-e865-4832-99ac-dfc70a5394ec",
   "metadata": {},
   "outputs": [],
   "source": [
    "def spacy_processor(text):\n",
    "    \n",
    "    #Put the data into spaCy model\n",
    "    doc = nlp(text)\n",
    "    \n",
    "    # Create a tokens list with only alpha characters and leaving out any that are only one letter\n",
    "    # Also lemmatizes words and omits SpaCy stop words\n",
    "    tokens = [token.lemma_.lower().strip() for token in doc if token.is_alpha and not token.is_stop and len(token.text) > 1]\n",
    "\n",
    "    #Put the processed text back together\n",
    "    processed_text = ' '.join(tokens)\n",
    "\n",
    "    #return processed text to dataframe\n",
    "    return processed_text\n",
    "    "
   ]
  },
  {
   "cell_type": "code",
   "execution_count": 7,
   "id": "4970e0d9-2130-44c4-a5ab-212ce2a75d54",
   "metadata": {},
   "outputs": [],
   "source": [
    "# Apply the function to the text column of rav_clean_df\n",
    "rav_clean_df['processed_text'] = rav_clean_df['notes'].apply(spacy_processor)"
   ]
  },
  {
   "cell_type": "code",
   "execution_count": 8,
   "id": "aad12279-2869-4e7f-b493-6e9877fd0e23",
   "metadata": {},
   "outputs": [],
   "source": [
    "rav_clean_df.drop(columns = ['notes'], inplace = True)"
   ]
  },
  {
   "cell_type": "code",
   "execution_count": 9,
   "id": "05eab430-5b76-4563-8d26-61b58b527b55",
   "metadata": {},
   "outputs": [
    {
     "data": {
      "text/html": [
       "<div>\n",
       "<style scoped>\n",
       "    .dataframe tbody tr th:only-of-type {\n",
       "        vertical-align: middle;\n",
       "    }\n",
       "\n",
       "    .dataframe tbody tr th {\n",
       "        vertical-align: top;\n",
       "    }\n",
       "\n",
       "    .dataframe thead th {\n",
       "        text-align: right;\n",
       "    }\n",
       "</style>\n",
       "<table border=\"1\" class=\"dataframe\">\n",
       "  <thead>\n",
       "    <tr style=\"text-align: right;\">\n",
       "      <th></th>\n",
       "      <th>pattern_name</th>\n",
       "      <th>author</th>\n",
       "      <th>difficulty_avg</th>\n",
       "      <th>max_yardage</th>\n",
       "      <th>pattern_price</th>\n",
       "      <th>projects_count</th>\n",
       "      <th>queued_projects_count</th>\n",
       "      <th>rating_avg</th>\n",
       "      <th>yarn_weight</th>\n",
       "      <th>type</th>\n",
       "      <th>gauge_per_inch</th>\n",
       "      <th>processed_text</th>\n",
       "    </tr>\n",
       "  </thead>\n",
       "  <tbody>\n",
       "    <tr>\n",
       "      <th>3738</th>\n",
       "      <td>Roza's Socks</td>\n",
       "      <td>Grumperina</td>\n",
       "      <td>2.92</td>\n",
       "      <td>429.0</td>\n",
       "      <td>0.0</td>\n",
       "      <td>491</td>\n",
       "      <td>283</td>\n",
       "      <td>4.23</td>\n",
       "      <td>Fingering</td>\n",
       "      <td>socks</td>\n",
       "      <td>8.25</td>\n",
       "      <td></td>\n",
       "    </tr>\n",
       "  </tbody>\n",
       "</table>\n",
       "</div>"
      ],
      "text/plain": [
       "      pattern_name      author  difficulty_avg  max_yardage  pattern_price  \\\n",
       "3738  Roza's Socks  Grumperina            2.92        429.0            0.0   \n",
       "\n",
       "      projects_count  queued_projects_count  rating_avg yarn_weight   type  \\\n",
       "3738             491                    283        4.23   Fingering  socks   \n",
       "\n",
       "      gauge_per_inch processed_text  \n",
       "3738            8.25                 "
      ]
     },
     "execution_count": 9,
     "metadata": {},
     "output_type": "execute_result"
    }
   ],
   "source": [
    "# Noticed only one pattern had nothing in processed text.  To make encoding and saving easier, will add the word\n",
    "# 'socks'.  Pattern is 'Roza's Socks'.\n",
    "rav_clean_df[rav_clean_df['processed_text'] == '']"
   ]
  },
  {
   "cell_type": "code",
   "execution_count": 10,
   "id": "2ad080c4-82ea-4b58-bd36-80c9ca0716a6",
   "metadata": {},
   "outputs": [],
   "source": [
    "rav_clean_df.loc[3738,'processed_text'] = 'socks'"
   ]
  },
  {
   "cell_type": "code",
   "execution_count": 11,
   "id": "52dd1789-29d2-45e1-8a45-a52cbfabc71c",
   "metadata": {},
   "outputs": [
    {
     "name": "stdout",
     "output_type": "stream",
     "text": [
      "<class 'pandas.core.frame.DataFrame'>\n",
      "RangeIndex: 6000 entries, 0 to 5999\n",
      "Data columns (total 12 columns):\n",
      " #   Column                 Non-Null Count  Dtype  \n",
      "---  ------                 --------------  -----  \n",
      " 0   pattern_name           6000 non-null   object \n",
      " 1   author                 6000 non-null   object \n",
      " 2   difficulty_avg         6000 non-null   float64\n",
      " 3   max_yardage            6000 non-null   float64\n",
      " 4   pattern_price          6000 non-null   float64\n",
      " 5   projects_count         6000 non-null   int64  \n",
      " 6   queued_projects_count  6000 non-null   int64  \n",
      " 7   rating_avg             6000 non-null   float64\n",
      " 8   yarn_weight            6000 non-null   object \n",
      " 9   type                   6000 non-null   object \n",
      " 10  gauge_per_inch         6000 non-null   float64\n",
      " 11  processed_text         6000 non-null   object \n",
      "dtypes: float64(5), int64(2), object(5)\n",
      "memory usage: 562.6+ KB\n"
     ]
    }
   ],
   "source": [
    "rav_clean_df.info()"
   ]
  },
  {
   "cell_type": "code",
   "execution_count": 12,
   "id": "e3c72bdb-7382-466a-a866-4933a5dd8e80",
   "metadata": {},
   "outputs": [],
   "source": [
    "# Instantiate the transformers\n",
    "\n",
    "ohe = OneHotEncoder(handle_unknown='ignore',\n",
    "                    drop = 'first',\n",
    "                   sparse_output = False)\n",
    "\n",
    "sc = StandardScaler()\n",
    "tvec = TfidfVectorizer(max_features = 3000) # Getting errors until I lowered max_features to abouut 3000"
   ]
  },
  {
   "cell_type": "code",
   "execution_count": 13,
   "id": "e10fe1fb-6565-46bd-9465-14ed9d85558f",
   "metadata": {},
   "outputs": [],
   "source": [
    "# Transform columns as mentioned previously\n",
    "ctx = ColumnTransformer(\n",
    "    transformers=[\n",
    "        ('one_hot', ohe, ['author', 'yarn_weight', 'type']),\n",
    "        ('sc', sc, ['difficulty_avg', 'gauge_per_inch',\n",
    "                    'max_yardage', 'pattern_price', 'projects_count',\n",
    "                    'queued_projects_count', 'rating_avg']),\n",
    "        ('tvec', tvec, 'processed_text'), \n",
    "    ],\n",
    "    remainder='passthrough', verbose_feature_names_out= False\n",
    ")\n",
    "\n",
    "rav_clean_enc = ctx.fit_transform(rav_clean_df)"
   ]
  },
  {
   "cell_type": "code",
   "execution_count": 14,
   "id": "b8ee2739-73ce-462a-8288-1efafbc2f4aa",
   "metadata": {},
   "outputs": [],
   "source": [
    "rav_clean_enc = pd.DataFrame(rav_clean_enc,\n",
    "                             columns = ctx.get_feature_names_out(),\n",
    "                            )\n",
    "\n",
    "rav_clean_enc.set_index(['pattern_name'], inplace = True)"
   ]
  },
  {
   "cell_type": "markdown",
   "id": "2a310f7f-09d8-4e28-a156-c71b30e22446",
   "metadata": {},
   "source": [
    "## Calculate Cosine Distances and Build Recommender Dataframe\n",
    "___"
   ]
  },
  {
   "cell_type": "markdown",
   "id": "fa77aafa-a9c4-4954-8c75-77f55ec2d923",
   "metadata": {},
   "source": [
    "For this to work, I need to convert rav_clean_enc to a float array.  Referenced [this](https://stackoverflow.com/questions/57434284/covert-to-sparse-matrix-typeerror-no-supported-conversion-for-types-dtype) stackoverflow post."
   ]
  },
  {
   "cell_type": "code",
   "execution_count": 15,
   "id": "6e997a26-1f1e-4916-b60e-72f68c3c318d",
   "metadata": {},
   "outputs": [],
   "source": [
    "rav_clean_array = np.array(rav_clean_enc, dtype = float)"
   ]
  },
  {
   "cell_type": "code",
   "execution_count": 16,
   "id": "fe46aeee-f6a2-4082-b56b-1e2bbe2e6015",
   "metadata": {},
   "outputs": [],
   "source": [
    "rav_clean_sparse = sparse.csr_matrix(rav_clean_array)"
   ]
  },
  {
   "cell_type": "code",
   "execution_count": 17,
   "id": "4a40f57b-64b1-4322-9bed-d9dcbad4c2af",
   "metadata": {},
   "outputs": [
    {
     "data": {
      "text/plain": [
       "<6000x4700 sparse matrix of type '<class 'numpy.float64'>'\n",
       "\twith 475617 stored elements in Compressed Sparse Row format>"
      ]
     },
     "execution_count": 17,
     "metadata": {},
     "output_type": "execute_result"
    }
   ],
   "source": [
    "rav_clean_sparse"
   ]
  },
  {
   "cell_type": "code",
   "execution_count": 18,
   "id": "66ee8d5b-4624-4b0f-acde-e4f8d4c4892b",
   "metadata": {},
   "outputs": [],
   "source": [
    "distances = pairwise_distances(rav_clean_sparse, metric = 'cosine')\n"
   ]
  },
  {
   "cell_type": "code",
   "execution_count": 19,
   "id": "0ad5d04e-be65-4b4f-bbeb-739ff8cd6357",
   "metadata": {},
   "outputs": [
    {
     "data": {
      "text/plain": [
       "array([[0.        , 0.04621287, 0.36420993, ..., 0.89519602, 1.16480299,\n",
       "        1.19011466],\n",
       "       [0.04621287, 0.        , 0.26616476, ..., 0.92703129, 1.22294791,\n",
       "        1.23068005],\n",
       "       [0.36420993, 0.26616476, 0.        , ..., 0.82979868, 1.20798853,\n",
       "        1.21311884],\n",
       "       ...,\n",
       "       [0.89519602, 0.92703129, 0.82979868, ..., 0.        , 0.70442856,\n",
       "        0.57303657],\n",
       "       [1.16480299, 1.22294791, 1.20798853, ..., 0.70442856, 0.        ,\n",
       "        0.62866486],\n",
       "       [1.19011466, 1.23068005, 1.21311884, ..., 0.57303657, 0.62866486,\n",
       "        0.        ]])"
      ]
     },
     "execution_count": 19,
     "metadata": {},
     "output_type": "execute_result"
    }
   ],
   "source": [
    "distances"
   ]
  },
  {
   "cell_type": "code",
   "execution_count": 20,
   "id": "ab89e60f-d564-44c3-8b68-a17b00ffdef6",
   "metadata": {},
   "outputs": [],
   "source": [
    "rav_rec_df = pd.DataFrame(distances, columns = rav_clean_enc.index, index = rav_clean_enc.index)"
   ]
  },
  {
   "cell_type": "code",
   "execution_count": 21,
   "id": "f3bc4b23-416e-4703-9c57-faec0dedec33",
   "metadata": {},
   "outputs": [
    {
     "data": {
      "text/html": [
       "<div>\n",
       "<style scoped>\n",
       "    .dataframe tbody tr th:only-of-type {\n",
       "        vertical-align: middle;\n",
       "    }\n",
       "\n",
       "    .dataframe tbody tr th {\n",
       "        vertical-align: top;\n",
       "    }\n",
       "\n",
       "    .dataframe thead th {\n",
       "        text-align: right;\n",
       "    }\n",
       "</style>\n",
       "<table border=\"1\" class=\"dataframe\">\n",
       "  <thead>\n",
       "    <tr style=\"text-align: right;\">\n",
       "      <th>pattern_name</th>\n",
       "      <th>Musselburgh</th>\n",
       "      <th>Classic Ribbed Hat</th>\n",
       "      <th>Alpine Bloom Hat</th>\n",
       "      <th>Classic Cuffed Hat</th>\n",
       "      <th>February Hat</th>\n",
       "      <th>October Hat</th>\n",
       "      <th>Manhattan Hat</th>\n",
       "      <th>My Baker's Hat</th>\n",
       "      <th>Berry Baby Hat</th>\n",
       "      <th>Basic Baby Hat</th>\n",
       "      <th>...</th>\n",
       "      <th>Sister Snowflakes</th>\n",
       "      <th>Galloway Pullover</th>\n",
       "      <th>Afterlight</th>\n",
       "      <th>Rolling Rock</th>\n",
       "      <th>Amélie</th>\n",
       "      <th>Bray</th>\n",
       "      <th>Barbet Turtleneck</th>\n",
       "      <th>Stonewall</th>\n",
       "      <th>Park Pullover</th>\n",
       "      <th>Construction Trucks Sweater</th>\n",
       "    </tr>\n",
       "    <tr>\n",
       "      <th>pattern_name</th>\n",
       "      <th></th>\n",
       "      <th></th>\n",
       "      <th></th>\n",
       "      <th></th>\n",
       "      <th></th>\n",
       "      <th></th>\n",
       "      <th></th>\n",
       "      <th></th>\n",
       "      <th></th>\n",
       "      <th></th>\n",
       "      <th></th>\n",
       "      <th></th>\n",
       "      <th></th>\n",
       "      <th></th>\n",
       "      <th></th>\n",
       "      <th></th>\n",
       "      <th></th>\n",
       "      <th></th>\n",
       "      <th></th>\n",
       "      <th></th>\n",
       "      <th></th>\n",
       "    </tr>\n",
       "  </thead>\n",
       "  <tbody>\n",
       "    <tr>\n",
       "      <th>Musselburgh</th>\n",
       "      <td>0.000000</td>\n",
       "      <td>0.046213</td>\n",
       "      <td>0.364210</td>\n",
       "      <td>0.054929</td>\n",
       "      <td>0.186750</td>\n",
       "      <td>0.250587</td>\n",
       "      <td>0.645529</td>\n",
       "      <td>0.777101</td>\n",
       "      <td>0.075066</td>\n",
       "      <td>0.044225</td>\n",
       "      <td>...</td>\n",
       "      <td>1.105664</td>\n",
       "      <td>1.043551</td>\n",
       "      <td>0.827158</td>\n",
       "      <td>0.702654</td>\n",
       "      <td>0.952868</td>\n",
       "      <td>0.863075</td>\n",
       "      <td>1.136594</td>\n",
       "      <td>0.895196</td>\n",
       "      <td>1.164803</td>\n",
       "      <td>1.190115</td>\n",
       "    </tr>\n",
       "    <tr>\n",
       "      <th>Classic Ribbed Hat</th>\n",
       "      <td>0.046213</td>\n",
       "      <td>0.000000</td>\n",
       "      <td>0.266165</td>\n",
       "      <td>0.021598</td>\n",
       "      <td>0.111116</td>\n",
       "      <td>0.144282</td>\n",
       "      <td>0.652178</td>\n",
       "      <td>0.712427</td>\n",
       "      <td>0.033014</td>\n",
       "      <td>0.037861</td>\n",
       "      <td>...</td>\n",
       "      <td>1.052955</td>\n",
       "      <td>1.083355</td>\n",
       "      <td>0.807411</td>\n",
       "      <td>0.677096</td>\n",
       "      <td>0.965539</td>\n",
       "      <td>0.933767</td>\n",
       "      <td>1.128567</td>\n",
       "      <td>0.927031</td>\n",
       "      <td>1.222948</td>\n",
       "      <td>1.230680</td>\n",
       "    </tr>\n",
       "    <tr>\n",
       "      <th>Alpine Bloom Hat</th>\n",
       "      <td>0.364210</td>\n",
       "      <td>0.266165</td>\n",
       "      <td>0.000000</td>\n",
       "      <td>0.257450</td>\n",
       "      <td>0.203746</td>\n",
       "      <td>0.212913</td>\n",
       "      <td>0.656075</td>\n",
       "      <td>0.810363</td>\n",
       "      <td>0.212479</td>\n",
       "      <td>0.346150</td>\n",
       "      <td>...</td>\n",
       "      <td>0.913280</td>\n",
       "      <td>1.057985</td>\n",
       "      <td>0.720213</td>\n",
       "      <td>0.467526</td>\n",
       "      <td>0.822247</td>\n",
       "      <td>0.751560</td>\n",
       "      <td>1.211770</td>\n",
       "      <td>0.829799</td>\n",
       "      <td>1.207989</td>\n",
       "      <td>1.213119</td>\n",
       "    </tr>\n",
       "    <tr>\n",
       "      <th>Classic Cuffed Hat</th>\n",
       "      <td>0.054929</td>\n",
       "      <td>0.021598</td>\n",
       "      <td>0.257450</td>\n",
       "      <td>0.000000</td>\n",
       "      <td>0.070223</td>\n",
       "      <td>0.151293</td>\n",
       "      <td>0.615580</td>\n",
       "      <td>0.644627</td>\n",
       "      <td>0.018428</td>\n",
       "      <td>0.046348</td>\n",
       "      <td>...</td>\n",
       "      <td>1.051592</td>\n",
       "      <td>1.078458</td>\n",
       "      <td>0.827334</td>\n",
       "      <td>0.662563</td>\n",
       "      <td>0.980172</td>\n",
       "      <td>0.887187</td>\n",
       "      <td>1.050248</td>\n",
       "      <td>0.863138</td>\n",
       "      <td>1.185380</td>\n",
       "      <td>1.175848</td>\n",
       "    </tr>\n",
       "    <tr>\n",
       "      <th>February Hat</th>\n",
       "      <td>0.186750</td>\n",
       "      <td>0.111116</td>\n",
       "      <td>0.203746</td>\n",
       "      <td>0.070223</td>\n",
       "      <td>0.000000</td>\n",
       "      <td>0.115133</td>\n",
       "      <td>0.614808</td>\n",
       "      <td>0.571329</td>\n",
       "      <td>0.055685</td>\n",
       "      <td>0.141568</td>\n",
       "      <td>...</td>\n",
       "      <td>0.981764</td>\n",
       "      <td>1.075296</td>\n",
       "      <td>0.823158</td>\n",
       "      <td>0.628921</td>\n",
       "      <td>0.955381</td>\n",
       "      <td>0.865939</td>\n",
       "      <td>0.992007</td>\n",
       "      <td>0.823667</td>\n",
       "      <td>1.189676</td>\n",
       "      <td>1.145111</td>\n",
       "    </tr>\n",
       "  </tbody>\n",
       "</table>\n",
       "<p>5 rows × 6000 columns</p>\n",
       "</div>"
      ],
      "text/plain": [
       "pattern_name        Musselburgh  Classic Ribbed Hat  Alpine Bloom Hat  \\\n",
       "pattern_name                                                            \n",
       "Musselburgh            0.000000            0.046213          0.364210   \n",
       "Classic Ribbed Hat     0.046213            0.000000          0.266165   \n",
       "Alpine Bloom Hat       0.364210            0.266165          0.000000   \n",
       "Classic Cuffed Hat     0.054929            0.021598          0.257450   \n",
       "February Hat           0.186750            0.111116          0.203746   \n",
       "\n",
       "pattern_name        Classic Cuffed Hat  February Hat  October Hat  \\\n",
       "pattern_name                                                        \n",
       "Musselburgh                   0.054929      0.186750     0.250587   \n",
       "Classic Ribbed Hat            0.021598      0.111116     0.144282   \n",
       "Alpine Bloom Hat              0.257450      0.203746     0.212913   \n",
       "Classic Cuffed Hat            0.000000      0.070223     0.151293   \n",
       "February Hat                  0.070223      0.000000     0.115133   \n",
       "\n",
       "pattern_name        Manhattan Hat  My Baker's Hat  Berry Baby Hat  \\\n",
       "pattern_name                                                        \n",
       "Musselburgh              0.645529        0.777101        0.075066   \n",
       "Classic Ribbed Hat       0.652178        0.712427        0.033014   \n",
       "Alpine Bloom Hat         0.656075        0.810363        0.212479   \n",
       "Classic Cuffed Hat       0.615580        0.644627        0.018428   \n",
       "February Hat             0.614808        0.571329        0.055685   \n",
       "\n",
       "pattern_name        Basic Baby Hat  ...  Sister Snowflakes  Galloway Pullover  \\\n",
       "pattern_name                        ...                                         \n",
       "Musselburgh               0.044225  ...           1.105664           1.043551   \n",
       "Classic Ribbed Hat        0.037861  ...           1.052955           1.083355   \n",
       "Alpine Bloom Hat          0.346150  ...           0.913280           1.057985   \n",
       "Classic Cuffed Hat        0.046348  ...           1.051592           1.078458   \n",
       "February Hat              0.141568  ...           0.981764           1.075296   \n",
       "\n",
       "pattern_name        Afterlight  Rolling Rock   Amélie      Bray  \\\n",
       "pattern_name                                                       \n",
       "Musselburgh           0.827158      0.702654  0.952868  0.863075   \n",
       "Classic Ribbed Hat    0.807411      0.677096  0.965539  0.933767   \n",
       "Alpine Bloom Hat      0.720213      0.467526  0.822247  0.751560   \n",
       "Classic Cuffed Hat    0.827334      0.662563  0.980172  0.887187   \n",
       "February Hat          0.823158      0.628921  0.955381  0.865939   \n",
       "\n",
       "pattern_name        Barbet Turtleneck  Stonewall  Park Pullover  \\\n",
       "pattern_name                                                      \n",
       "Musselburgh                  1.136594   0.895196       1.164803   \n",
       "Classic Ribbed Hat           1.128567   0.927031       1.222948   \n",
       "Alpine Bloom Hat             1.211770   0.829799       1.207989   \n",
       "Classic Cuffed Hat           1.050248   0.863138       1.185380   \n",
       "February Hat                 0.992007   0.823667       1.189676   \n",
       "\n",
       "pattern_name        Construction Trucks Sweater  \n",
       "pattern_name                                     \n",
       "Musselburgh                            1.190115  \n",
       "Classic Ribbed Hat                     1.230680  \n",
       "Alpine Bloom Hat                       1.213119  \n",
       "Classic Cuffed Hat                     1.175848  \n",
       "February Hat                           1.145111  \n",
       "\n",
       "[5 rows x 6000 columns]"
      ]
     },
     "execution_count": 21,
     "metadata": {},
     "output_type": "execute_result"
    }
   ],
   "source": [
    "rav_rec_df.head()"
   ]
  },
  {
   "cell_type": "markdown",
   "id": "a9604f84-fa2f-4370-a38f-4ad704f16538",
   "metadata": {},
   "source": [
    "## User Interface and Recommender Function\n",
    "___"
   ]
  },
  {
   "cell_type": "code",
   "execution_count": 22,
   "id": "b2e6e453-166e-4c38-871c-c8796e19acff",
   "metadata": {},
   "outputs": [],
   "source": [
    "# Make a list of pattern names that can be searched\n",
    "patterns = rav_rec_df.index"
   ]
  },
  {
   "cell_type": "code",
   "execution_count": 23,
   "id": "39166356-e17d-4769-894b-2b71219fa244",
   "metadata": {},
   "outputs": [
    {
     "data": {
      "text/plain": [
       "Index(['Musselburgh', 'Classic Ribbed Hat', 'Alpine Bloom Hat',\n",
       "       'Classic Cuffed Hat', 'February Hat', 'October Hat', 'Manhattan Hat',\n",
       "       'My Baker's Hat', 'Berry Baby Hat', 'Basic Baby Hat',\n",
       "       ...\n",
       "       'Sister Snowflakes', 'Galloway Pullover', 'Afterlight', 'Rolling Rock',\n",
       "       'Amélie', 'Bray', 'Barbet Turtleneck', 'Stonewall', 'Park Pullover',\n",
       "       'Construction Trucks Sweater'],\n",
       "      dtype='object', name='pattern_name', length=6000)"
      ]
     },
     "execution_count": 23,
     "metadata": {},
     "output_type": "execute_result"
    }
   ],
   "source": [
    "patterns"
   ]
  },
  {
   "cell_type": "code",
   "execution_count": 24,
   "id": "e24c25af-42dc-4241-a61a-b318c7477ab1",
   "metadata": {},
   "outputs": [],
   "source": [
    "def display_recs(user_pattern):\n",
    "    '''\n",
    "    Function accepts 'user_pattern' string argument which is a user's input of a pattern they wish to find recommendations for.<br>\n",
    "    using the 'rav_rec' dataframe, the function will sort out the top five patterns most similar to 'user_pattern' argument.  This is saved in a 'top_five' list variable.\n",
    "    The function will take to 'top_five' and using a character replacement table, will transform each pattern to its Ravelry URL equivalent.\n",
    "    Finally the function return the name of each recommended pattern as well as a URL link to its details on Ravelry.  If the pattern is not found in the 'rav_rec' database,\n",
    "    the function will handle the KeyError by printing a message to the user to check their input.\n",
    "    '''\n",
    "    \n",
    "\n",
    "    #Using try here to catch any typos or non-existent patterns the user may enter\n",
    "    try:\n",
    "\n",
    "        top_five = list(rav_rec_df[user_pattern].sort_values().iloc[1:6].index)\n",
    "\n",
    "        # Make a dictionary to deal with characters in the pattern name, but not in the url address.\n",
    "        replacements = {\n",
    "            '#': '',\n",
    "            '&': '',\n",
    "            ' ': '-',\n",
    "            '/': '-',\n",
    "            '!': '',\n",
    "            '@': '-',\n",
    "            '~': '-',\n",
    "            ',': '',\n",
    "            \"'\":''\n",
    "        }\n",
    "\n",
    "        # Make a table of the replacements dictionary using .maketrans\n",
    "        replacement_table = str.maketrans(replacements)\n",
    "\n",
    "        #Iterate through top five patterns to transform names into their url equivalents\n",
    "        for patt in top_five:\n",
    "            url_ready = patt.translate(replacement_table).lower()\n",
    "            url = print(f'{patt}: https://www.ravelry.com/patterns/library/{url_ready}')\n",
    "        return url\n",
    "\n",
    "    # Return error message if typo or non-existent pattern\n",
    "    except KeyError:\n",
    "        return 'Please check to see if your pattern is typed correctly.  It must be written exactly as designer writes it.'"
   ]
  },
  {
   "cell_type": "code",
   "execution_count": 37,
   "id": "49a91cd1-6a79-4069-99fe-71b25bb9fbc1",
   "metadata": {},
   "outputs": [
    {
     "name": "stdin",
     "output_type": "stream",
     "text": [
      "Search for a pattern!  Sip\n"
     ]
    },
    {
     "name": "stdout",
     "output_type": "stream",
     "text": [
      "['Sip', 'Sipila']\n"
     ]
    }
   ],
   "source": [
    "search_term = input('Search for a pattern! ').lower()\n",
    "\n",
    "if list(patterns[patterns.str.lower().str.contains(search_term)]) == []:\n",
    "    print('Nothing Found')\n",
    "else:\n",
    "    print(list(patterns[patterns.str.lower().str.contains(search_term)]))"
   ]
  },
  {
   "cell_type": "code",
   "execution_count": 39,
   "id": "be27c7af-ffb6-4c44-8ffc-bc3809c618c6",
   "metadata": {},
   "outputs": [
    {
     "name": "stdin",
     "output_type": "stream",
     "text": [
      "Type a knitting pattern you like:  Brassica\n"
     ]
    },
    {
     "name": "stdout",
     "output_type": "stream",
     "text": [
      "Holey Hat: https://www.ravelry.com/patterns/library/holey-hat\n",
      "Close Knit Waffle Hat: https://www.ravelry.com/patterns/library/close-knit-waffle-hat\n",
      "Backcountry Hat: https://www.ravelry.com/patterns/library/backcountry-hat\n",
      "The Republic Hat: https://www.ravelry.com/patterns/library/the-republic-hat\n",
      "Gnarly Hat: https://www.ravelry.com/patterns/library/gnarly-hat\n"
     ]
    }
   ],
   "source": [
    "# Asks user for a pattern they like and uses display_recs function to return five urls of similar patterns.\n",
    "user_input = input('Type a knitting pattern you like: ')\n",
    "display_recs(user_input)"
   ]
  },
  {
   "cell_type": "code",
   "execution_count": 27,
   "id": "a647c8d1-8073-4fd4-b78c-a82fea41b3a9",
   "metadata": {},
   "outputs": [],
   "source": [
    "rav_rec_df.to_pickle('../data/rav_rec.pkl')"
   ]
  },
  {
   "cell_type": "code",
   "execution_count": null,
   "id": "caddc310-4112-4764-adac-337e2295ad53",
   "metadata": {},
   "outputs": [],
   "source": []
  }
 ],
 "metadata": {
  "kernelspec": {
   "display_name": "Python 3 (ipykernel)",
   "language": "python",
   "name": "python3"
  },
  "language_info": {
   "codemirror_mode": {
    "name": "ipython",
    "version": 3
   },
   "file_extension": ".py",
   "mimetype": "text/x-python",
   "name": "python",
   "nbconvert_exporter": "python",
   "pygments_lexer": "ipython3",
   "version": "3.11.7"
  }
 },
 "nbformat": 4,
 "nbformat_minor": 5
}
