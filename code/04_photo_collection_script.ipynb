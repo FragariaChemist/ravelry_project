{
 "cells": [
  {
   "cell_type": "markdown",
   "id": "34b4a15e-bb4d-4e02-8efc-6dc769d5d8b6",
   "metadata": {
    "id": "34b4a15e-bb4d-4e02-8efc-6dc769d5d8b6"
   },
   "source": [
    "# 04 - Photo Collection Script"
   ]
  },
  {
   "cell_type": "markdown",
   "id": "0105f87e-7f1c-4f43-96a8-e373ebfbc9e4",
   "metadata": {
    "id": "0105f87e-7f1c-4f43-96a8-e373ebfbc9e4"
   },
   "source": [
    "The following code is meant to download photos from the various photos csvs and upload them to the pattern_photos folder.  From there they are manually inspected and moved to their respective train/test folders.  \n",
    "\n",
    "If time permits, will streamline this to be more automated."
   ]
  },
  {
   "cell_type": "code",
   "execution_count": null,
   "id": "3b32983b-d91e-4327-a438-90910d28404c",
   "metadata": {
    "colab": {
     "base_uri": "https://localhost:8080/"
    },
    "executionInfo": {
     "elapsed": 28906,
     "status": "ok",
     "timestamp": 1717514239967,
     "user": {
      "displayName": "Kristina Halbig",
      "userId": "01668274860332230483"
     },
     "user_tz": 420
    },
    "id": "3b32983b-d91e-4327-a438-90910d28404c",
    "outputId": "7ded7dff-d087-4432-d8fa-27f4a1d6af63"
   },
   "outputs": [
    {
     "name": "stdout",
     "output_type": "stream",
     "text": [
      "Mounted at /content/drive\n"
     ]
    }
   ],
   "source": [
    "import pandas as pd\n",
    "import urllib.request\n",
    "\n",
    "from google.colab import drive\n",
    "drive.mount('/content/drive')"
   ]
  },
  {
   "cell_type": "markdown",
   "id": "a8ed2d17-450f-4fa5-8d97-ea8ff7cb5f5b",
   "metadata": {},
   "source": [
    "|Function|Argument|Purpose|\n",
    "|---|---|---|\n",
    "|**download_images**|*df* - dataframe|Function will iterrate through dataframe and download photos according the the link in photo column.  It will call the file pattern_name.jpg and store them in the pattern_photos directory."
   ]
  },
  {
   "cell_type": "code",
   "execution_count": null,
   "id": "56903516-afc3-4c5d-891d-c02c6c55c34f",
   "metadata": {
    "id": "56903516-afc3-4c5d-891d-c02c6c55c34f"
   },
   "outputs": [],
   "source": [
    "beanie_photo_df = pd.read_csv('/content/drive/My Drive/ravelry_project/data/beanie_photos.csv')\n",
    "pullover_photo_df = pd.read_csv('/content/drive/My Drive/ravelry_project/data/pullover_photos.csv')\n",
    "socks_photo_df = pd.read_csv('/content/drive/My Drive/ravelry_project/data/socks_photos.csv')"
   ]
  },
  {
   "cell_type": "code",
   "execution_count": null,
   "id": "fe038caf-9bca-4e35-b572-604ae7eece97",
   "metadata": {
    "colab": {
     "base_uri": "https://localhost:8080/",
     "height": 226
    },
    "executionInfo": {
     "elapsed": 217,
     "status": "ok",
     "timestamp": 1717514333843,
     "user": {
      "displayName": "Kristina Halbig",
      "userId": "01668274860332230483"
     },
     "user_tz": 420
    },
    "id": "fe038caf-9bca-4e35-b572-604ae7eece97",
    "outputId": "e6b34467-b5dd-48b5-91f1-b760b4ecbd81"
   },
   "outputs": [
    {
     "data": {
      "application/vnd.google.colaboratory.intrinsic+json": {
       "summary": "{\n  \"name\": \"socks_photo_df\",\n  \"rows\": 100,\n  \"fields\": [\n    {\n      \"column\": \"id\",\n      \"properties\": {\n        \"dtype\": \"number\",\n        \"std\": 1738394,\n        \"min\": 40,\n        \"max\": 7341348,\n        \"num_unique_values\": 100,\n        \"samples\": [\n          996501,\n          1218610,\n          247406\n        ],\n        \"semantic_type\": \"\",\n        \"description\": \"\"\n      }\n    },\n    {\n      \"column\": \"name\",\n      \"properties\": {\n        \"dtype\": \"string\",\n        \"num_unique_values\": 99,\n        \"samples\": [\n          \"Skimmer Socks Revisited\",\n          \"Bibliophile's Mark Socks\",\n          \"Charade\"\n        ],\n        \"semantic_type\": \"\",\n        \"description\": \"\"\n      }\n    },\n    {\n      \"column\": \"photo\",\n      \"properties\": {\n        \"dtype\": \"string\",\n        \"num_unique_values\": 100,\n        \"samples\": [\n          \"https://images4-g.ravelrycache.com/uploads/lainemagazine/672938934/laine_sockbook_lindseyfowler_sk_medium.jpg\",\n          \"https://images4-f.ravelrycache.com/uploads/summerleigh/838942321/FullSizeRender-3_medium.jpg\",\n          \"https://images4-f.ravelrycache.com/flickr/5/5/9/5590864086/5590864086.jpg\"\n        ],\n        \"semantic_type\": \"\",\n        \"description\": \"\"\n      }\n    }\n  ]\n}",
       "type": "dataframe",
       "variable_name": "socks_photo_df"
      },
      "text/html": [
       "\n",
       "  <div id=\"df-24ac3c1d-2fb2-47ce-abc3-86910acf8b9e\" class=\"colab-df-container\">\n",
       "    <div>\n",
       "<style scoped>\n",
       "    .dataframe tbody tr th:only-of-type {\n",
       "        vertical-align: middle;\n",
       "    }\n",
       "\n",
       "    .dataframe tbody tr th {\n",
       "        vertical-align: top;\n",
       "    }\n",
       "\n",
       "    .dataframe thead th {\n",
       "        text-align: right;\n",
       "    }\n",
       "</style>\n",
       "<table border=\"1\" class=\"dataframe\">\n",
       "  <thead>\n",
       "    <tr style=\"text-align: right;\">\n",
       "      <th></th>\n",
       "      <th>id</th>\n",
       "      <th>name</th>\n",
       "      <th>photo</th>\n",
       "    </tr>\n",
       "  </thead>\n",
       "  <tbody>\n",
       "    <tr>\n",
       "      <th>0</th>\n",
       "      <td>1039033</td>\n",
       "      <td>Vanilla Socks on Magic Loop</td>\n",
       "      <td>https://images4-f.ravelrycache.com/uploads/the...</td>\n",
       "    </tr>\n",
       "    <tr>\n",
       "      <th>1</th>\n",
       "      <td>1039035</td>\n",
       "      <td>Vanilla Socks on 9\" Circulars</td>\n",
       "      <td>https://images4-f.ravelrycache.com/uploads/the...</td>\n",
       "    </tr>\n",
       "    <tr>\n",
       "      <th>2</th>\n",
       "      <td>130787</td>\n",
       "      <td>Hermione's Everyday Socks</td>\n",
       "      <td>https://images4-g.ravelrycache.com/flickr/3/7/...</td>\n",
       "    </tr>\n",
       "    <tr>\n",
       "      <th>3</th>\n",
       "      <td>1159708</td>\n",
       "      <td>DK Weight Vanilla Socks</td>\n",
       "      <td>https://images4-f.ravelrycache.com/uploads/the...</td>\n",
       "    </tr>\n",
       "    <tr>\n",
       "      <th>4</th>\n",
       "      <td>1091238</td>\n",
       "      <td>DRK Everyday Socks</td>\n",
       "      <td>https://images4-f.ravelrycache.com/uploads/dre...</td>\n",
       "    </tr>\n",
       "  </tbody>\n",
       "</table>\n",
       "</div>\n",
       "    <div class=\"colab-df-buttons\">\n",
       "\n",
       "  <div class=\"colab-df-container\">\n",
       "    <button class=\"colab-df-convert\" onclick=\"convertToInteractive('df-24ac3c1d-2fb2-47ce-abc3-86910acf8b9e')\"\n",
       "            title=\"Convert this dataframe to an interactive table.\"\n",
       "            style=\"display:none;\">\n",
       "\n",
       "  <svg xmlns=\"http://www.w3.org/2000/svg\" height=\"24px\" viewBox=\"0 -960 960 960\">\n",
       "    <path d=\"M120-120v-720h720v720H120Zm60-500h600v-160H180v160Zm220 220h160v-160H400v160Zm0 220h160v-160H400v160ZM180-400h160v-160H180v160Zm440 0h160v-160H620v160ZM180-180h160v-160H180v160Zm440 0h160v-160H620v160Z\"/>\n",
       "  </svg>\n",
       "    </button>\n",
       "\n",
       "  <style>\n",
       "    .colab-df-container {\n",
       "      display:flex;\n",
       "      gap: 12px;\n",
       "    }\n",
       "\n",
       "    .colab-df-convert {\n",
       "      background-color: #E8F0FE;\n",
       "      border: none;\n",
       "      border-radius: 50%;\n",
       "      cursor: pointer;\n",
       "      display: none;\n",
       "      fill: #1967D2;\n",
       "      height: 32px;\n",
       "      padding: 0 0 0 0;\n",
       "      width: 32px;\n",
       "    }\n",
       "\n",
       "    .colab-df-convert:hover {\n",
       "      background-color: #E2EBFA;\n",
       "      box-shadow: 0px 1px 2px rgba(60, 64, 67, 0.3), 0px 1px 3px 1px rgba(60, 64, 67, 0.15);\n",
       "      fill: #174EA6;\n",
       "    }\n",
       "\n",
       "    .colab-df-buttons div {\n",
       "      margin-bottom: 4px;\n",
       "    }\n",
       "\n",
       "    [theme=dark] .colab-df-convert {\n",
       "      background-color: #3B4455;\n",
       "      fill: #D2E3FC;\n",
       "    }\n",
       "\n",
       "    [theme=dark] .colab-df-convert:hover {\n",
       "      background-color: #434B5C;\n",
       "      box-shadow: 0px 1px 3px 1px rgba(0, 0, 0, 0.15);\n",
       "      filter: drop-shadow(0px 1px 2px rgba(0, 0, 0, 0.3));\n",
       "      fill: #FFFFFF;\n",
       "    }\n",
       "  </style>\n",
       "\n",
       "    <script>\n",
       "      const buttonEl =\n",
       "        document.querySelector('#df-24ac3c1d-2fb2-47ce-abc3-86910acf8b9e button.colab-df-convert');\n",
       "      buttonEl.style.display =\n",
       "        google.colab.kernel.accessAllowed ? 'block' : 'none';\n",
       "\n",
       "      async function convertToInteractive(key) {\n",
       "        const element = document.querySelector('#df-24ac3c1d-2fb2-47ce-abc3-86910acf8b9e');\n",
       "        const dataTable =\n",
       "          await google.colab.kernel.invokeFunction('convertToInteractive',\n",
       "                                                    [key], {});\n",
       "        if (!dataTable) return;\n",
       "\n",
       "        const docLinkHtml = 'Like what you see? Visit the ' +\n",
       "          '<a target=\"_blank\" href=https://colab.research.google.com/notebooks/data_table.ipynb>data table notebook</a>'\n",
       "          + ' to learn more about interactive tables.';\n",
       "        element.innerHTML = '';\n",
       "        dataTable['output_type'] = 'display_data';\n",
       "        await google.colab.output.renderOutput(dataTable, element);\n",
       "        const docLink = document.createElement('div');\n",
       "        docLink.innerHTML = docLinkHtml;\n",
       "        element.appendChild(docLink);\n",
       "      }\n",
       "    </script>\n",
       "  </div>\n",
       "\n",
       "\n",
       "<div id=\"df-0a0b7cdc-dbdc-4c34-b677-3272c0ab698a\">\n",
       "  <button class=\"colab-df-quickchart\" onclick=\"quickchart('df-0a0b7cdc-dbdc-4c34-b677-3272c0ab698a')\"\n",
       "            title=\"Suggest charts\"\n",
       "            style=\"display:none;\">\n",
       "\n",
       "<svg xmlns=\"http://www.w3.org/2000/svg\" height=\"24px\"viewBox=\"0 0 24 24\"\n",
       "     width=\"24px\">\n",
       "    <g>\n",
       "        <path d=\"M19 3H5c-1.1 0-2 .9-2 2v14c0 1.1.9 2 2 2h14c1.1 0 2-.9 2-2V5c0-1.1-.9-2-2-2zM9 17H7v-7h2v7zm4 0h-2V7h2v10zm4 0h-2v-4h2v4z\"/>\n",
       "    </g>\n",
       "</svg>\n",
       "  </button>\n",
       "\n",
       "<style>\n",
       "  .colab-df-quickchart {\n",
       "      --bg-color: #E8F0FE;\n",
       "      --fill-color: #1967D2;\n",
       "      --hover-bg-color: #E2EBFA;\n",
       "      --hover-fill-color: #174EA6;\n",
       "      --disabled-fill-color: #AAA;\n",
       "      --disabled-bg-color: #DDD;\n",
       "  }\n",
       "\n",
       "  [theme=dark] .colab-df-quickchart {\n",
       "      --bg-color: #3B4455;\n",
       "      --fill-color: #D2E3FC;\n",
       "      --hover-bg-color: #434B5C;\n",
       "      --hover-fill-color: #FFFFFF;\n",
       "      --disabled-bg-color: #3B4455;\n",
       "      --disabled-fill-color: #666;\n",
       "  }\n",
       "\n",
       "  .colab-df-quickchart {\n",
       "    background-color: var(--bg-color);\n",
       "    border: none;\n",
       "    border-radius: 50%;\n",
       "    cursor: pointer;\n",
       "    display: none;\n",
       "    fill: var(--fill-color);\n",
       "    height: 32px;\n",
       "    padding: 0;\n",
       "    width: 32px;\n",
       "  }\n",
       "\n",
       "  .colab-df-quickchart:hover {\n",
       "    background-color: var(--hover-bg-color);\n",
       "    box-shadow: 0 1px 2px rgba(60, 64, 67, 0.3), 0 1px 3px 1px rgba(60, 64, 67, 0.15);\n",
       "    fill: var(--button-hover-fill-color);\n",
       "  }\n",
       "\n",
       "  .colab-df-quickchart-complete:disabled,\n",
       "  .colab-df-quickchart-complete:disabled:hover {\n",
       "    background-color: var(--disabled-bg-color);\n",
       "    fill: var(--disabled-fill-color);\n",
       "    box-shadow: none;\n",
       "  }\n",
       "\n",
       "  .colab-df-spinner {\n",
       "    border: 2px solid var(--fill-color);\n",
       "    border-color: transparent;\n",
       "    border-bottom-color: var(--fill-color);\n",
       "    animation:\n",
       "      spin 1s steps(1) infinite;\n",
       "  }\n",
       "\n",
       "  @keyframes spin {\n",
       "    0% {\n",
       "      border-color: transparent;\n",
       "      border-bottom-color: var(--fill-color);\n",
       "      border-left-color: var(--fill-color);\n",
       "    }\n",
       "    20% {\n",
       "      border-color: transparent;\n",
       "      border-left-color: var(--fill-color);\n",
       "      border-top-color: var(--fill-color);\n",
       "    }\n",
       "    30% {\n",
       "      border-color: transparent;\n",
       "      border-left-color: var(--fill-color);\n",
       "      border-top-color: var(--fill-color);\n",
       "      border-right-color: var(--fill-color);\n",
       "    }\n",
       "    40% {\n",
       "      border-color: transparent;\n",
       "      border-right-color: var(--fill-color);\n",
       "      border-top-color: var(--fill-color);\n",
       "    }\n",
       "    60% {\n",
       "      border-color: transparent;\n",
       "      border-right-color: var(--fill-color);\n",
       "    }\n",
       "    80% {\n",
       "      border-color: transparent;\n",
       "      border-right-color: var(--fill-color);\n",
       "      border-bottom-color: var(--fill-color);\n",
       "    }\n",
       "    90% {\n",
       "      border-color: transparent;\n",
       "      border-bottom-color: var(--fill-color);\n",
       "    }\n",
       "  }\n",
       "</style>\n",
       "\n",
       "  <script>\n",
       "    async function quickchart(key) {\n",
       "      const quickchartButtonEl =\n",
       "        document.querySelector('#' + key + ' button');\n",
       "      quickchartButtonEl.disabled = true;  // To prevent multiple clicks.\n",
       "      quickchartButtonEl.classList.add('colab-df-spinner');\n",
       "      try {\n",
       "        const charts = await google.colab.kernel.invokeFunction(\n",
       "            'suggestCharts', [key], {});\n",
       "      } catch (error) {\n",
       "        console.error('Error during call to suggestCharts:', error);\n",
       "      }\n",
       "      quickchartButtonEl.classList.remove('colab-df-spinner');\n",
       "      quickchartButtonEl.classList.add('colab-df-quickchart-complete');\n",
       "    }\n",
       "    (() => {\n",
       "      let quickchartButtonEl =\n",
       "        document.querySelector('#df-0a0b7cdc-dbdc-4c34-b677-3272c0ab698a button');\n",
       "      quickchartButtonEl.style.display =\n",
       "        google.colab.kernel.accessAllowed ? 'block' : 'none';\n",
       "    })();\n",
       "  </script>\n",
       "</div>\n",
       "\n",
       "    </div>\n",
       "  </div>\n"
      ],
      "text/plain": [
       "        id                           name  \\\n",
       "0  1039033    Vanilla Socks on Magic Loop   \n",
       "1  1039035  Vanilla Socks on 9\" Circulars   \n",
       "2   130787      Hermione's Everyday Socks   \n",
       "3  1159708        DK Weight Vanilla Socks   \n",
       "4  1091238             DRK Everyday Socks   \n",
       "\n",
       "                                               photo  \n",
       "0  https://images4-f.ravelrycache.com/uploads/the...  \n",
       "1  https://images4-f.ravelrycache.com/uploads/the...  \n",
       "2  https://images4-g.ravelrycache.com/flickr/3/7/...  \n",
       "3  https://images4-f.ravelrycache.com/uploads/the...  \n",
       "4  https://images4-f.ravelrycache.com/uploads/dre...  "
      ]
     },
     "execution_count": 3,
     "metadata": {},
     "output_type": "execute_result"
    }
   ],
   "source": [
    "socks_photo_df.head()"
   ]
  },
  {
   "cell_type": "markdown",
   "id": "38157e47-b37f-4fac-b56c-62d2150fd63f",
   "metadata": {
    "id": "38157e47-b37f-4fac-b56c-62d2150fd63f"
   },
   "source": [
    "Referenced [Geeks For Geeks .iterrows](https://www.geeksforgeeks.org/how-to-iterate-over-rows-in-pandas-dataframe/) for following code. The urlretrieve was suggested by Hank and from the following [stack overflow](https://stackoverflow.com/questions/47700711/how-to-download-images-that-are-in-links-in-a-dataframe) post."
   ]
  },
  {
   "cell_type": "code",
   "execution_count": null,
   "id": "e0fc3576-a4f6-42e6-b4cc-49a6579eccaa",
   "metadata": {
    "id": "e0fc3576-a4f6-42e6-b4cc-49a6579eccaa",
    "scrolled": true
   },
   "outputs": [],
   "source": [
    "def download_images(df):\n",
    "    '''\n",
    "    Arguments\n",
    "    df: Dataframe from unique_pattern_collection function\n",
    "\n",
    "    Function will iterrate through dataframe and download photos according the the link in photo column.\n",
    "    It will call the file pattern_name.jpg and store them in the pattern_photos directory.\n",
    "\n",
    "    '''\n",
    "\n",
    "    for index, row in df.iterrows():\n",
    "        try:\n",
    "            # Download the image\n",
    "            urllib.request.urlretrieve(row['photo'], f\"/content/drive/My Drive/ravelry_project/pattern_photos/{row['id']}.jpg\")\n",
    "\n",
    "        except (FileNotFoundError, OSError):\n",
    "            # Ignore the error and continue with the next iteration\n",
    "            pass\n",
    "    return 'All photos downloaded.'"
   ]
  },
  {
   "cell_type": "code",
   "execution_count": null,
   "id": "4415ab67-d47f-404b-a4dd-36ded32abc64",
   "metadata": {
    "colab": {
     "base_uri": "https://localhost:8080/",
     "height": 55
    },
    "executionInfo": {
     "elapsed": 52513,
     "status": "ok",
     "timestamp": 1717514484025,
     "user": {
      "displayName": "Kristina Halbig",
      "userId": "01668274860332230483"
     },
     "user_tz": 420
    },
    "id": "4415ab67-d47f-404b-a4dd-36ded32abc64",
    "outputId": "9c2cd5ce-3b0d-48e3-8d44-c73bbb63f118"
   },
   "outputs": [
    {
     "data": {
      "application/vnd.google.colaboratory.intrinsic+json": {
       "type": "string"
      },
      "text/plain": [
       "'All photos downloaded.'"
      ]
     },
     "execution_count": 5,
     "metadata": {},
     "output_type": "execute_result"
    }
   ],
   "source": [
    "download_images(socks_photo_df)"
   ]
  }
 ],
 "metadata": {
  "colab": {
   "provenance": []
  },
  "kernelspec": {
   "display_name": "Python 3 (ipykernel)",
   "language": "python",
   "name": "python3"
  },
  "language_info": {
   "codemirror_mode": {
    "name": "ipython",
    "version": 3
   },
   "file_extension": ".py",
   "mimetype": "text/x-python",
   "name": "python",
   "nbconvert_exporter": "python",
   "pygments_lexer": "ipython3",
   "version": "3.11.7"
  }
 },
 "nbformat": 4,
 "nbformat_minor": 5
}
