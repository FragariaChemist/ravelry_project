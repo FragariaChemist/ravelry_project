{
 "cells": [
  {
   "cell_type": "markdown",
   "id": "3c815afc-46f2-47c5-aeb4-f4d953b0f8e8",
   "metadata": {},
   "source": [
    "# Ravelry API - Data Collection Script\n",
    "___"
   ]
  },
  {
   "cell_type": "markdown",
   "id": "794035a6-1528-448a-a6d1-da1d21cba452",
   "metadata": {},
   "source": [
    "References that helped me create this code can be found at:\n",
    "* [How to access an API for first-time API users](https://medium.com/data-science-at-microsoft/how-to-access-an-api-for-first-time-api-users-879002f5f58d) by Riesling Walker\n",
    "* [Ravelry API Documentation](https://www.ravelry.com/api)\n",
    "* The helpful community in the [Ravelry API](https://www.ravelry.com/groups/ravelry-api) group"
   ]
  },
  {
   "cell_type": "code",
   "execution_count": 1,
   "id": "4505ed19-b5d8-4053-9547-d9998969022b",
   "metadata": {},
   "outputs": [
    {
     "data": {
      "text/plain": [
       "True"
      ]
     },
     "execution_count": 1,
     "metadata": {},
     "output_type": "execute_result"
    }
   ],
   "source": [
    "#Imports\n",
    "import pandas as pd\n",
    "import requests\n",
    "from requests.auth import HTTPBasicAuth\n",
    "import json\n",
    "\n",
    "\n",
    "import os\n",
    "from dotenv import load_dotenv\n",
    "load_dotenv()"
   ]
  },
  {
   "cell_type": "code",
   "execution_count": 2,
   "id": "a82a8b3a-635a-4e76-918a-9ba8f2f3e0b3",
   "metadata": {},
   "outputs": [],
   "source": [
    "username = os.getenv('ravname')\n",
    "password = os.getenv('password')"
   ]
  },
  {
   "cell_type": "code",
   "execution_count": 3,
   "id": "b67ca691-e167-46d5-ab7e-2960b4dee47d",
   "metadata": {},
   "outputs": [],
   "source": [
    "def unique_pattern_collection(pc):\n",
    "\n",
    "    '''\n",
    "    Function is designed to take in a string argument of 'pc' which is a Ravelry pattern category.  The Ravelry API is called with specified category along with other\n",
    "    pre-determined parameters and generates a json file.  The parameters are set to look for knitting patterns in the English language that are not discontinued and originating\n",
    "    from the United States.  Function is set up to have 150 patterns per page and starts on page one and iterate through pages as needed.  Function will check for duplicates\n",
    "    and record 2000 patters in the 'posts' list.  From the posts list the function will pull the pattern ID, name, and 'medium photo' URL,\n",
    "    create a dataframe with these properties, and return the dataframe.\n",
    "    '''\n",
    "    #Parameters used to filter what kind of patterns I want, keep track of posts collected, and unique IDs so duplicates are avoided.\n",
    "    language = 'en'\n",
    "    craft = 'knitting'\n",
    "    pc = pc\n",
    "    availability = '-discontinued'\n",
    "    photo = 'yes'\n",
    "    country = 'united-states'\n",
    "    sort = 'popularity'\n",
    "    page = 1\n",
    "    page_size = 150\n",
    "    posts = []\n",
    "    unique_ids = set()\n",
    "    total_unique_patterns = 2000\n",
    "\n",
    "    # Call the API with relevant parameters, username, and password\n",
    "    while len(unique_ids) < total_unique_patterns:\n",
    "        url = 'https://api.ravelry.com/patterns/search.json?page_size={}&craft={}&pc={}&availability={}&language={}&photo={}&country={}&sort={}&page={}'.format(page_size, craft, pc, availability, language, photo,country,sort, page)      \n",
    "        response = requests.get(url, auth=requests.auth.HTTPBasicAuth(username, password))\n",
    "\n",
    "        # If the call is good, transform the response to a json and get everything in the patterns section where relevant data is located\n",
    "        if response.status_code == 200:\n",
    "            rav_data = response.json()\n",
    "            patterns = rav_data.get('patterns')\n",
    "\n",
    "            # Stop the loop if out of patterns - Only needed if you are collecting a lot of patterns or are very selective with \n",
    "            # parameters.\n",
    "            #if not patterns:\n",
    "                #print(\"No more patterns available.\")\n",
    "                #break\n",
    "\n",
    "            # Check for unique pattern IDs.  If it's not in the unique ID list yet, that means it hasn't been collected and should be added to the pattern list.\n",
    "            for pattern in patterns:\n",
    "                if pattern['id'] not in unique_ids:\n",
    "                    unique_ids.add(pattern['id'])\n",
    "                    posts.append(pattern)\n",
    "                    if len(unique_ids) == total_unique_patterns:\n",
    "                        break\n",
    "                        \n",
    "        # Print status code if API breaks\n",
    "        else:\n",
    "            print(f'API request failed with status code {response.status_code}')\n",
    "            break\n",
    "            \n",
    "        # Turn the page to continue the loop\n",
    "        page += 1\n",
    "\n",
    "    \n",
    "    # Collect all relevant data from the API and put them into variables\n",
    "    id = [post['id'] for post in posts]\n",
    "    name = [post['name'] for post in posts]\n",
    "    photos = [post['first_photo']['medium_url'] if post.get('first_photo') and post['first_photo'].get('medium_url') else 'No photo' for post in posts]\n",
    "    \n",
    "    # Make a dataframe from above variables\n",
    "    df = pd.DataFrame({'id': id, 'name': name, 'photo':photos})\n",
    "        \n",
    "    # Print how many patterns were collected and return the dataframe\n",
    "    print(f\"Total unique pattern IDs collected: {len(unique_ids)}\")\n",
    "\n",
    "    return df\n"
   ]
  },
  {
   "cell_type": "code",
   "execution_count": 4,
   "id": "8344ebd5-9abb-4c2d-a928-241fa0760ebb",
   "metadata": {},
   "outputs": [],
   "source": [
    "def detail_collector(dataframe):\n",
    "\n",
    "    '''\n",
    "    Fuction accepts a 'dataframe' argument that is intended to be the dataframe created with the unique_pattern_collection function.  This function takes that dataframe and breaks\n",
    "    out all of the values in the ID column into a list.  The Ravelry pattern API is called\n",
    "    '''\n",
    "    # Break out the garment dataframe to just get a list of IDs to iterate through API.  Also need to keep a list of collected raw data.\n",
    "    pattern_ids = dataframe['id'].tolist()\n",
    "    raw_details = []\n",
    "    \n",
    "    for id in pattern_ids:\n",
    "        url = f'https://api.ravelry.com//patterns.json?ids={id}'\n",
    "        response = requests.get(url, auth=requests.auth.HTTPBasicAuth(username, password))\n",
    "    \n",
    "        pattern_data = response.json()\n",
    "        pat_details = pattern_data.get('patterns', {}).get(str(id)) # Make sure to get the string of the ID as that is how it's written in API call\n",
    "        # Otherwise I get None for entries\n",
    "    \n",
    "        raw_details.append(pat_details)\n",
    "    \n",
    "    #Stuff to collect\n",
    "    id = [raw_detail['id'] for raw_detail in raw_details]\n",
    "    name = [raw_detail['name'] for raw_detail in raw_details]\n",
    "    difficulty_avg = [round(raw_detail['difficulty_average'],2) for raw_detail in raw_details]\n",
    "    gauge = [raw_detail['gauge'] for raw_detail in raw_details]\n",
    "    gauge_divisor = [raw_detail['gauge_divisor'] for raw_detail in raw_details]\n",
    "    gauge_pattern = [raw_detail['gauge_pattern'] for raw_detail in raw_details]\n",
    "    max_yardage = [raw_detail['yardage_max'] for raw_detail in raw_details]\n",
    "    price = [raw_detail['price'] for raw_detail in raw_details]\n",
    "    rating_avg = [round(raw_detail['rating_average'],2) for raw_detail in raw_details]\n",
    "    projects_count = [raw_detail['projects_count'] for raw_detail in raw_details]\n",
    "    queued_projects_count = [raw_detail['queued_projects_count'] for raw_detail in raw_details]\n",
    "    sizes_available = [raw_detail['sizes_available'] for raw_detail in raw_details]\n",
    "    yarn_weight = [raw_detail['yarn_weight']['name'] if raw_detail.get('yarn_weight') and raw_detail['yarn_weight'].get('name') else 'Unavailable' for raw_detail in raw_details]\n",
    "    author = [raw_detail['pattern_author']['name'] for raw_detail in raw_details]\n",
    "    projects_count = [raw_detail['projects_count'] for raw_detail in raw_details]\n",
    "    notes = [raw_detail['notes'] for raw_detail in raw_details]\n",
    "\n",
    "    \n",
    "    final_df = pd.DataFrame({'id': id,\n",
    "                            'name': name,\n",
    "                            'author': author,\n",
    "                            'difficulty_avg': difficulty_avg,\n",
    "                            'gauge': gauge,\n",
    "                            'gauge_divisor': gauge_divisor,\n",
    "                            'gauge_pattern': gauge_pattern,\n",
    "                            'max_yardage': max_yardage,\n",
    "                            'notes': notes,\n",
    "                            'price': price,\n",
    "                            'projects_count': projects_count,\n",
    "                            'queued_projects_count': queued_projects_count,\n",
    "                            'rating_avg': rating_avg,\n",
    "                            'sizes_available': sizes_available,\n",
    "                            'yarn_weight': yarn_weight\n",
    "                        })\n",
    "\n",
    "    return final_df\n",
    "    return raw_details"
   ]
  },
  {
   "cell_type": "code",
   "execution_count": 5,
   "id": "d637082a-a017-4a22-b24b-b377467f0736",
   "metadata": {},
   "outputs": [],
   "source": [
    "def data_collection_pipeline(garment):\n",
    "    df = unique_pattern_collection(garment)\n",
    "    final_df = detail_collector(df)\n",
    "    final_df.to_csv(f'../data/{garment}_details.csv', index = False)\n",
    "    return final_df\n",
    "    "
   ]
  },
  {
   "cell_type": "code",
   "execution_count": 6,
   "id": "8eb51bb8-153a-4e23-8c65-436d316e764a",
   "metadata": {
    "scrolled": true
   },
   "outputs": [
    {
     "name": "stdout",
     "output_type": "stream",
     "text": [
      "Total unique pattern IDs collected: 10\n"
     ]
    }
   ],
   "source": [
    "scarf_df = data_collection_pipeline('blanket')"
   ]
  },
  {
   "cell_type": "code",
   "execution_count": null,
   "id": "f615ca5c-dcf6-4a1d-b9c0-651244540af3",
   "metadata": {},
   "outputs": [],
   "source": []
  }
 ],
 "metadata": {
  "kernelspec": {
   "display_name": "Python 3 (ipykernel)",
   "language": "python",
   "name": "python3"
  },
  "language_info": {
   "codemirror_mode": {
    "name": "ipython",
    "version": 3
   },
   "file_extension": ".py",
   "mimetype": "text/x-python",
   "name": "python",
   "nbconvert_exporter": "python",
   "pygments_lexer": "ipython3",
   "version": "3.11.7"
  }
 },
 "nbformat": 4,
 "nbformat_minor": 5
}
