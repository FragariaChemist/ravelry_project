{
 "cells": [
  {
   "cell_type": "markdown",
   "id": "34b4a15e-bb4d-4e02-8efc-6dc769d5d8b6",
   "metadata": {},
   "source": [
    "# Photo Collection Script"
   ]
  },
  {
   "cell_type": "markdown",
   "id": "0105f87e-7f1c-4f43-96a8-e373ebfbc9e4",
   "metadata": {},
   "source": [
    "The following code is meant to download photos from the various photos csvs and upload them to the pattern_photos folder.  From there they are manually inspected and moved to their respective train/test folders.  \n",
    "\n",
    "If time permits, will streamline this to be more automated."
   ]
  },
  {
   "cell_type": "code",
   "execution_count": 44,
   "id": "3b32983b-d91e-4327-a438-90910d28404c",
   "metadata": {},
   "outputs": [],
   "source": [
    "import pandas as pd\n",
    "import urllib.request\n",
    "\n",
    "from google.colab import drive\n",
    "drive.mount('/content/drive')"
   ]
  },
  {
   "cell_type": "code",
   "execution_count": 72,
   "id": "fe038caf-9bca-4e35-b572-604ae7eece97",
   "metadata": {},
   "outputs": [
    {
     "data": {
      "text/html": [
       "<div>\n",
       "<style scoped>\n",
       "    .dataframe tbody tr th:only-of-type {\n",
       "        vertical-align: middle;\n",
       "    }\n",
       "\n",
       "    .dataframe tbody tr th {\n",
       "        vertical-align: top;\n",
       "    }\n",
       "\n",
       "    .dataframe thead th {\n",
       "        text-align: right;\n",
       "    }\n",
       "</style>\n",
       "<table border=\"1\" class=\"dataframe\">\n",
       "  <thead>\n",
       "    <tr style=\"text-align: right;\">\n",
       "      <th></th>\n",
       "      <th>id</th>\n",
       "      <th>name</th>\n",
       "      <th>photo</th>\n",
       "    </tr>\n",
       "  </thead>\n",
       "  <tbody>\n",
       "    <tr>\n",
       "      <th>0</th>\n",
       "      <td>1039033</td>\n",
       "      <td>Vanilla Socks on Magic Loop</td>\n",
       "      <td>https://images4-f.ravelrycache.com/uploads/the...</td>\n",
       "    </tr>\n",
       "    <tr>\n",
       "      <th>1</th>\n",
       "      <td>1039035</td>\n",
       "      <td>Vanilla Socks on 9\" Circulars</td>\n",
       "      <td>https://images4-f.ravelrycache.com/uploads/the...</td>\n",
       "    </tr>\n",
       "    <tr>\n",
       "      <th>2</th>\n",
       "      <td>130787</td>\n",
       "      <td>Hermione's Everyday Socks</td>\n",
       "      <td>https://images4-g.ravelrycache.com/flickr/3/7/...</td>\n",
       "    </tr>\n",
       "    <tr>\n",
       "      <th>3</th>\n",
       "      <td>1159708</td>\n",
       "      <td>DK Weight Vanilla Socks</td>\n",
       "      <td>https://images4-f.ravelrycache.com/uploads/the...</td>\n",
       "    </tr>\n",
       "    <tr>\n",
       "      <th>4</th>\n",
       "      <td>1091238</td>\n",
       "      <td>DRK Everyday Socks</td>\n",
       "      <td>https://images4-f.ravelrycache.com/uploads/dre...</td>\n",
       "    </tr>\n",
       "  </tbody>\n",
       "</table>\n",
       "</div>"
      ],
      "text/plain": [
       "        id                           name  \\\n",
       "0  1039033    Vanilla Socks on Magic Loop   \n",
       "1  1039035  Vanilla Socks on 9\" Circulars   \n",
       "2   130787      Hermione's Everyday Socks   \n",
       "3  1159708        DK Weight Vanilla Socks   \n",
       "4  1091238             DRK Everyday Socks   \n",
       "\n",
       "                                               photo  \n",
       "0  https://images4-f.ravelrycache.com/uploads/the...  \n",
       "1  https://images4-f.ravelrycache.com/uploads/the...  \n",
       "2  https://images4-g.ravelrycache.com/flickr/3/7/...  \n",
       "3  https://images4-f.ravelrycache.com/uploads/the...  \n",
       "4  https://images4-f.ravelrycache.com/uploads/dre...  "
      ]
     },
     "execution_count": 72,
     "metadata": {},
     "output_type": "execute_result"
    }
   ],
   "source": [
    "socks_photo_df.head()"
   ]
  },
  {
   "cell_type": "code",
   "execution_count": 69,
   "id": "56903516-afc3-4c5d-891d-c02c6c55c34f",
   "metadata": {},
   "outputs": [],
   "source": [
    "beanie_photo_df = pd.read_csv('../data/beanie_photos.csv')\n",
    "pullover_photo_df = pd.read_csv('../data/pullover_photos.csv')\n",
    "socks_photo_df = pd.read_csv('../data/socks_photos.csv')"
   ]
  },
  {
   "cell_type": "markdown",
   "id": "38157e47-b37f-4fac-b56c-62d2150fd63f",
   "metadata": {},
   "source": [
    "Referenced [Geeks For Geeks .iterrows](https://www.geeksforgeeks.org/how-to-iterate-over-rows-in-pandas-dataframe/) for following code. The urlretrieve was suggested by Hank and from the following [stack overflow](https://stackoverflow.com/questions/47700711/how-to-download-images-that-are-in-links-in-a-dataframe) post."
   ]
  },
  {
   "cell_type": "code",
   "execution_count": 65,
   "id": "e0fc3576-a4f6-42e6-b4cc-49a6579eccaa",
   "metadata": {
    "scrolled": true
   },
   "outputs": [],
   "source": [
    "def download_images(df):\n",
    "    '''\n",
    "    Arguments\n",
    "    df: Dataframe from unique_pattern_collection function\n",
    "    garment: Type of garment (hat, socks, etc)\n",
    "\n",
    "    Function will iterrate through dataframe and download photos according the the link in photo column.\n",
    "    It will call the file pattern_name.jpg and store them in the pattern_photos directory.\n",
    "\n",
    "    '''\n",
    "    \n",
    "    for index, row in df.iterrows():\n",
    "        try:\n",
    "            # Download the image\n",
    "            urllib.request.urlretrieve(row['photo'], f\"../pattern_photos/{row['id']}.jpg\")\n",
    "            \n",
    "        except (FileNotFoundError, OSError):\n",
    "            # Ignore the error and continue with the next iteration\n",
    "            pass\n",
    "    return 'All photos downloaded.'"
   ]
  },
  {
   "cell_type": "code",
   "execution_count": 73,
   "id": "4415ab67-d47f-404b-a4dd-36ded32abc64",
   "metadata": {},
   "outputs": [
    {
     "data": {
      "text/plain": [
       "'All photos downloaded.'"
      ]
     },
     "execution_count": 73,
     "metadata": {},
     "output_type": "execute_result"
    }
   ],
   "source": [
    "download_images(socks_photo_df)"
   ]
  },
  {
   "cell_type": "code",
   "execution_count": null,
   "id": "e3a1ea3d-c5b1-48fd-b694-dcf9cd161466",
   "metadata": {},
   "outputs": [],
   "source": []
  }
 ],
 "metadata": {
  "kernelspec": {
   "display_name": "Python 3 (ipykernel)",
   "language": "python",
   "name": "python3"
  },
  "language_info": {
   "codemirror_mode": {
    "name": "ipython",
    "version": 3
   },
   "file_extension": ".py",
   "mimetype": "text/x-python",
   "name": "python",
   "nbconvert_exporter": "python",
   "pygments_lexer": "ipython3",
   "version": "3.11.7"
  }
 },
 "nbformat": 4,
 "nbformat_minor": 5
}
