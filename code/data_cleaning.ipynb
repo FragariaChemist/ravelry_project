{
 "cells": [
  {
   "cell_type": "markdown",
   "id": "2f21db7b-e73c-409e-968c-e390e134eba9",
   "metadata": {},
   "source": [
    "# Raverly API - Data Cleaning\n",
    "___"
   ]
  },
  {
   "cell_type": "code",
   "execution_count": 1,
   "id": "e1e19736-ed19-458e-8782-74af1be2e969",
   "metadata": {},
   "outputs": [],
   "source": [
    "import pandas as pd"
   ]
  },
  {
   "cell_type": "markdown",
   "id": "65c54d69-931c-44ad-af5f-460aef7b82d5",
   "metadata": {},
   "source": [
    "### Read In Data - Drop and Clean\n",
    "___"
   ]
  },
  {
   "cell_type": "markdown",
   "id": "edc653b6-4ca9-4bac-bc68-0d45845f10cf",
   "metadata": {},
   "source": [
    "Reading in indivudual garment datasets and combine into one dataframe.  View the data and check for nulls."
   ]
  },
  {
   "cell_type": "code",
   "execution_count": 2,
   "id": "3615bf0a-bef0-4353-b120-86ee8eb17d33",
   "metadata": {},
   "outputs": [],
   "source": [
    "#Read in all of the different garment datasets - 2000 observations per csv.\n",
    "\n",
    "hats = pd.read_csv('../data/beanie-toque_details.csv')\n",
    "socks = pd.read_csv('../data/mid-calf_details.csv')\n",
    "pullovers = pd.read_csv('../data/pullover_details.csv')"
   ]
  },
  {
   "cell_type": "code",
   "execution_count": 3,
   "id": "e6eac202-7dd3-4a26-a153-4ce85c161760",
   "metadata": {},
   "outputs": [],
   "source": [
    "# I want to add the type of garment as a column in each dataframe.\n",
    "hats['type'] = 'hat'\n",
    "socks['type'] = 'socks'\n",
    "pullovers['type'] = 'pullover'"
   ]
  },
  {
   "cell_type": "code",
   "execution_count": 4,
   "id": "46562002-797f-4519-9727-7dd37d21cbe9",
   "metadata": {},
   "outputs": [],
   "source": [
    "# One observation in all of the datasets is an unusual yarn_weight.  I'll change it to 'Worsted'.\n",
    "# Row is 1569\n",
    "hats[hats['yarn_weight'] == 'Aran / Worsted']\n",
    "hats.loc[1569, 'yarn_weight'] = 'Worsted'"
   ]
  },
  {
   "cell_type": "code",
   "execution_count": 5,
   "id": "03167bfc-c7a1-40c5-b610-e7263970c286",
   "metadata": {},
   "outputs": [],
   "source": [
    "#Combine dataframes\n",
    "rav_df = pd.concat([hats, socks, pullovers], ignore_index = True)"
   ]
  },
  {
   "cell_type": "markdown",
   "id": "ab3f2537-0a9e-4659-935c-6018d756389d",
   "metadata": {},
   "source": [
    "Dropping the sizes available column.  There is no standardization of how this is populated.  It can be whatever the artist enters.  Making the assumption that most patterns are knit for most sizes or that size is specified in the name column ex. Baby Hat.  I don't believe it would help in creating a better model.\n",
    "\n",
    "The downside to this is making an assumption that anyone using this recommender is an average size range.  Ravelry could benefit by standardizing size ranges by using either exclusively measurements or categetories.  However, this is difficult because different garments size and fit differently.\n",
    "\n",
    "Also dropping the gauge_pattern column.  This is a value that is also set by the designer and has no standardization.  Most patterns assume gauge is measure using stockinette stitch.  After filling nulls with 'stockinette' and viewing the data, 76% of all patterns have 'stockinette' as their gauge_pattern.  I don't believe this would be helpful in pattern recommendation."
   ]
  },
  {
   "cell_type": "code",
   "execution_count": 6,
   "id": "115d6a09-a9a9-4d22-8b3e-73e4e628bfec",
   "metadata": {},
   "outputs": [],
   "source": [
    "rav_df.drop(columns = ['sizes_available', 'gauge_pattern'], inplace = True)"
   ]
  },
  {
   "cell_type": "markdown",
   "id": "0eda22a5-95bc-4deb-b6b2-51f622a0840d",
   "metadata": {},
   "source": [
    "### Null Cleaning\n",
    "___"
   ]
  },
  {
   "cell_type": "markdown",
   "id": "e5ab0965-af18-4132-8784-51078aba1190",
   "metadata": {},
   "source": [
    "|Function|Argument|Purpose|\n",
    "|---|---|---|\n",
    "|**null_pipeline**|*df* - dataframe to clean|Combines all helper functions and removes all null values from dataframe|\n",
    "|**gauge_calculator**|*row* -dataframe row|Inputs number of stitches per four inches depending on yarn weight|\n",
    "|**yardage_calculator**|*row* - dataframe row|Inputs the average max yardage used depending on garment type|\n",
    "|**stockinette_filler**|*row* - dataframe row|If there is a 'stockinette' string anywhere in the gauge_pattern column, function will replace text with only 'stockinette'.  Will also replace with 'stockinette' string if value is null|"
   ]
  },
  {
   "cell_type": "markdown",
   "id": "9712c407-204d-401f-bd78-c5e70739464b",
   "metadata": {},
   "source": [
    "#### Function Details\n",
    "___"
   ]
  },
  {
   "cell_type": "markdown",
   "id": "4c1347b4-0500-42de-a942-0e8d453a96c1",
   "metadata": {},
   "source": [
    "**null_pipeline** -- This function combines all other functions, as well as a '.fillna' line of code that removes all null values in the dataset."
   ]
  },
  {
   "cell_type": "markdown",
   "id": "6731f7a0-8a61-47c2-bdd9-affeff1f6919",
   "metadata": {},
   "source": [
    "**gauge_calculator** -- Gauge is typically described as number of knitting stitches per inch.  For example, a pattern with 20 in the gauge column and 4 in the gauge divisor means '20stiches per 4 inches'.  This equates to 5 stitches per inch which is indicative of a worsted weight yarn.  The gauge_calculator function is designed to fill gauge column nulls based on observation yarn weight.  Yarn weight infomation referenced from the [Craft Yarn Council](https://www.craftyarncouncil.com/standards/yarn-weight-system)."
   ]
  },
  {
   "cell_type": "markdown",
   "id": "3176aabb-8015-4fb2-a26f-71377f2c7736",
   "metadata": {},
   "source": [
    "**yardage_calculator** -- The yardage and gauge functions originally were 'if' and 'elif' statements for each conditional, but they would create more nulls than fill them.  I could not figure out why and eventually copied my code into ChatGPT. It recommended doing a dictionary, which looks cleaner but wasn't in the spirit of my original code.  However, I realized that I would need different max_yardage values for each garment.  A sweater knit in worsted weight yarn takes more yarn to make than a hat.  Instead of making three different fuctions, I thought this would be a good case for a dictionary of dictionaries.  I modified ChatGPT's code into a nested dictionary so that I just require one function to fill max_values for all of my garment types.  That also meant that I could contcatenate all garment type datasets before cleaning."
   ]
  },
  {
   "cell_type": "markdown",
   "id": "0ae4be83-aad8-4245-a257-7132cca33ae3",
   "metadata": {},
   "source": [
    "**stockinette_filler** -- Gauge pattern can be anything the designer wants it to be, even a custom pattern of their own creation.  However, most of the time the gauge pattern is stockinette.  This function will look for instances of 'stockinette' in gauge pattern text and change it to only 'stockinette'.  Will also change null values in this column to stockinette.  I do not believe this would be an insightful feature in modeling, but will clean it just in case."
   ]
  },
  {
   "cell_type": "markdown",
   "id": "b9bf1014-d2da-4b49-8b6e-0c476be18f21",
   "metadata": {},
   "source": [
    "**.fillna values** -- The 'notes' column is optional alphanumeric information about the pattern that the designer can include with the pattern.  They also have the option of adding nothing.  Will replace nulls in notes column with 'notes not provided'.\n",
    "\n",
    "The 'price' column nulls mean that the pattern is avaiable to download for free.  Will replace nulls in price column with 0 as to maintain float datatype. I will also round the prices to the nearest whole dollar amount.\n",
    "\n",
    "The 'gauge_divisor column will default to 4.0 as most patterns are written as x stitches per 4 inches when referring to gauge.  The filled in gauge values also assume four inches."
   ]
  },
  {
   "cell_type": "code",
   "execution_count": 7,
   "id": "6e486b7e-7bd5-4366-bf13-7a7fbae5f93f",
   "metadata": {},
   "outputs": [],
   "source": [
    "def gauge_calculator(row):\n",
    "    \n",
    "\n",
    "    ''' \n",
    "    Meant to be applied to a garment dataframe.  Argument is 'row' and is meant to fill nulls in\n",
    "    the gauge column.  Will look for any null values in the gauge columnand replace it with the\n",
    "    typical 4in gauge number associated with its yarn weight.\n",
    "    \n",
    "    '''\n",
    "    \n",
    "    if pd.isnull(row['gauge']):\n",
    "        yarn_weight_gauge = {\n",
    "            'Worsted': 20,\n",
    "            'DK': 22,\n",
    "            'Bulky': 16,\n",
    "            'Aran': 20,\n",
    "            'Super Bulky': 12,\n",
    "            'Fingering': 32,\n",
    "            'Sport': 24,\n",
    "            'Any gauge': 20,  # Assuming the most popular yarn type - Worsted\n",
    "            'Unavailable': 20,  # Assuming worsted yarn for the reason stated above\n",
    "            'Light Fingering': 32,\n",
    "            'Jumbo': 5,\n",
    "            'Lace': 40\n",
    "        }\n",
    "        \n",
    "        return yarn_weight_gauge.get(row['yarn_weight'])\n",
    "    else:\n",
    "        return row['gauge']"
   ]
  },
  {
   "cell_type": "code",
   "execution_count": 8,
   "id": "19526b04-22af-496c-bc9f-afa06989a23a",
   "metadata": {},
   "outputs": [],
   "source": [
    "def yardage_calculator(row):\n",
    "\n",
    "    ''' \n",
    "    Meant to be applied to a garment dataframe.  Argument is 'row' \n",
    "    This function is meant to fill nulls the max_yardage column.  Will look for any null values in the max_yardage column\n",
    "    and replace it with the average max_yardage associated with its yarn weight. Average max_yardage is based on average of all available\n",
    "    max_yardage values in the dataset.\n",
    "    '''\n",
    "    yarn_weight_yardage = {\n",
    "        'Worsted': {'hat':213.0, 'pullover':1781.0, 'socks':326.0},\n",
    "        'DK': {'hat':253.0, 'pullover':1840.0, 'socks':386.0},\n",
    "        'Bulky': {'hat':142.0, 'pullover':1408.0, 'socks':329.0},\n",
    "        'Aran': {'hat':188.0, 'pullover':1552.0, 'socks':399.0},\n",
    "        'Super Bulky': {'hat':99.0, 'pullover':1077.0, 'socks':187.0},\n",
    "        'Fingering': {'hat':301.0, 'pullover':2137, 'socks':429.0},\n",
    "        'Sport': {'hat':274.0, 'pullover': 2129.0, 'socks':430.0},\n",
    "        'Any gauge': {'hat':259.0, 'pullover':2869.0, 'socks':450.0},  \n",
    "        'Unavailable': {'hat':225.0, 'pullover':2309, 'socks':331.0}, \n",
    "        'Light Fingering': {'hat':345.0, 'pullover':2118.0, 'socks':452.0},\n",
    "        'Jumbo': {'hat':124.0, 'pullover':1752.0, 'socks':264.0},\n",
    "        'Lace': {'hat':250.0, 'pullover':1844.0, 'socks':610.0}\n",
    "        }\n",
    "    if pd.isnull(row['max_yardage']):\n",
    "\n",
    "        return yarn_weight_yardage.get(row['yarn_weight'], {}).get(row['type'])\n",
    "    else:\n",
    "        return row['max_yardage']\n"
   ]
  },
  {
   "cell_type": "code",
   "execution_count": 9,
   "id": "403c8a5e-f1e6-43e3-a2cf-be5cf05f8d1b",
   "metadata": {},
   "outputs": [],
   "source": [
    "# Not sure if I'll need this in the end, but will hold onto code for now\n",
    "def stockinette_filler(row):\n",
    "    if pd.isnull(row['gauge_pattern']):\n",
    "        return 'stockinette'\n",
    "    elif 'stockinette' in str(row['gauge_pattern']).lower() or 'st st' in str(row['gauge_pattern']).lower():\n",
    "        return 'stockinette'\n",
    "    else:\n",
    "        return row['gauge_pattern']"
   ]
  },
  {
   "cell_type": "code",
   "execution_count": 10,
   "id": "0378d1b9-3e94-4cdc-ac7f-056aa95fecf8",
   "metadata": {},
   "outputs": [],
   "source": [
    "def null_pipeline(df):\n",
    "\n",
    "    # Custom functions\n",
    "    df['max_yardage'] = df.apply(yardage_calculator, axis = 1)\n",
    "    df['gauge'] = df.apply(gauge_calculator, axis = 1)\n",
    "    \n",
    "    # One-off .apply functions using values dictionary as  the .fillna reference\n",
    "    # Gauge is usually described as x stitches per four inches.  This fills null gauge_divisor values\n",
    "    # with 4.0.  This matches the gauge_calculator function, which fills in number of stitches per four \n",
    "    # inches depending on what garment it is.\n",
    "    \n",
    "    values = ({'gauge_divisor':4.0, 'notes':'no notes provided','price':0})\n",
    "    df.fillna(values, inplace = True)\n",
    "    \n",
    "    return df"
   ]
  },
  {
   "cell_type": "code",
   "execution_count": 11,
   "id": "b8031b7e-b704-4d7c-9795-d4940231c685",
   "metadata": {},
   "outputs": [],
   "source": [
    "rav_clean_df = null_pipeline(rav_df)"
   ]
  },
  {
   "cell_type": "markdown",
   "id": "47af2dce-49f2-43ff-8e93-2948117f39e7",
   "metadata": {},
   "source": [
    "One more thing - normalize the gauge.  Some patterns have gauge for various gauge divisors.  I will divide gauge by gauge divisor to and add these values to a 'gauge_per_inch' column."
   ]
  },
  {
   "cell_type": "code",
   "execution_count": 12,
   "id": "56153cc1-bd34-4b20-8f9c-cbe682c3e405",
   "metadata": {},
   "outputs": [],
   "source": [
    "# One more thing - normalize the gauge\n",
    "rav_clean_df['gauge_per_inch'] = rav_clean_df['gauge'] / rav_clean_df['gauge_divisor']"
   ]
  },
  {
   "cell_type": "code",
   "execution_count": null,
   "id": "f985543f-bd6b-42be-adb8-3bcefe1859d8",
   "metadata": {},
   "outputs": [],
   "source": [
    "rav_clean_df.head(10)"
   ]
  },
  {
   "cell_type": "code",
   "execution_count": 14,
   "id": "0498841a-a791-40a6-87a4-f2de4f3b1000",
   "metadata": {},
   "outputs": [],
   "source": [
    "rav_clean_df.to_csv('../data/rav_clean.csv', index = False)"
   ]
  }
 ],
 "metadata": {
  "kernelspec": {
   "display_name": "Python 3 (ipykernel)",
   "language": "python",
   "name": "python3"
  },
  "language_info": {
   "codemirror_mode": {
    "name": "ipython",
    "version": 3
   },
   "file_extension": ".py",
   "mimetype": "text/x-python",
   "name": "python",
   "nbconvert_exporter": "python",
   "pygments_lexer": "ipython3",
   "version": "3.11.7"
  }
 },
 "nbformat": 4,
 "nbformat_minor": 5
}
